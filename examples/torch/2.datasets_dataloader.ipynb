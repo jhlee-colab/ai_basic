{
 "cells": [
  {
   "cell_type": "markdown",
   "id": "923db63d-64c5-41c0-8cc7-9c86f32b37e2",
   "metadata": {},
   "source": [
    "## Datasets & DataLoader"
   ]
  },
  {
   "cell_type": "code",
   "execution_count": 1,
   "id": "9f6bd229-432d-4cac-9df9-28ed8a52d6ee",
   "metadata": {},
   "outputs": [],
   "source": [
    "import torch\n",
    "from torch.utils.data import Dataset\n",
    "from torchvision import datasets\n",
    "from torchvision.transforms import ToTensor\n",
    "from matplotlib import pyplot as plt"
   ]
  },
  {
   "cell_type": "markdown",
   "id": "688027e4-e720-424f-ad34-99a09bc2a03d",
   "metadata": {},
   "source": [
    "### Loading a dataset"
   ]
  },
  {
   "cell_type": "code",
   "execution_count": 2,
   "id": "dfab8f1c-d9f2-410b-a535-8ac2e02669ff",
   "metadata": {},
   "outputs": [
    {
     "data": {
      "text/plain": [
       "Dataset FashionMNIST\n",
       "    Number of datapoints: 60000\n",
       "    Root location: data\n",
       "    Split: Train\n",
       "    StandardTransform\n",
       "Transform: ToTensor()"
      ]
     },
     "execution_count": 2,
     "metadata": {},
     "output_type": "execute_result"
    }
   ],
   "source": [
    "train_data = datasets.FashionMNIST(\n",
    "    root='data',\n",
    "    train=True,\n",
    "    download=True,\n",
    "    transform=ToTensor()\n",
    ")\n",
    "train_data"
   ]
  },
  {
   "cell_type": "code",
   "execution_count": 3,
   "id": "309769f8-a30c-429e-9bc6-980fe070a736",
   "metadata": {},
   "outputs": [
    {
     "data": {
      "text/plain": [
       "torch.Size([60000, 28, 28])"
      ]
     },
     "execution_count": 3,
     "metadata": {},
     "output_type": "execute_result"
    }
   ],
   "source": [
    "train_data.data.shape"
   ]
  },
  {
   "cell_type": "code",
   "execution_count": 4,
   "id": "2b99c022-d143-4fbb-bc62-1d5df93e3b14",
   "metadata": {},
   "outputs": [
    {
     "data": {
      "text/plain": [
       "['T-shirt/top',\n",
       " 'Trouser',\n",
       " 'Pullover',\n",
       " 'Dress',\n",
       " 'Coat',\n",
       " 'Sandal',\n",
       " 'Shirt',\n",
       " 'Sneaker',\n",
       " 'Bag',\n",
       " 'Ankle boot']"
      ]
     },
     "execution_count": 4,
     "metadata": {},
     "output_type": "execute_result"
    }
   ],
   "source": [
    "train_data.classes"
   ]
  },
  {
   "cell_type": "code",
   "execution_count": 5,
   "id": "9d9e7af1-6f15-45bb-b5e0-2b30d6b34792",
   "metadata": {},
   "outputs": [
    {
     "data": {
      "text/plain": [
       "torch.Size([60000])"
      ]
     },
     "execution_count": 5,
     "metadata": {},
     "output_type": "execute_result"
    }
   ],
   "source": [
    "train_data.targets.shape"
   ]
  },
  {
   "cell_type": "code",
   "execution_count": 6,
   "id": "0e34479a-1cd4-49e2-9446-6d132d61295a",
   "metadata": {},
   "outputs": [
    {
     "data": {
      "text/plain": [
       "tensor([9, 0, 0,  ..., 3, 0, 5])"
      ]
     },
     "execution_count": 6,
     "metadata": {},
     "output_type": "execute_result"
    }
   ],
   "source": [
    "train_data.targets"
   ]
  },
  {
   "cell_type": "code",
   "execution_count": 7,
   "id": "ce3d355c-ce8e-4da5-9c8c-584d60670672",
   "metadata": {},
   "outputs": [
    {
     "data": {
      "text/plain": [
       "Dataset FashionMNIST\n",
       "    Number of datapoints: 10000\n",
       "    Root location: data\n",
       "    Split: Test\n",
       "    StandardTransform\n",
       "Transform: ToTensor()"
      ]
     },
     "execution_count": 7,
     "metadata": {},
     "output_type": "execute_result"
    }
   ],
   "source": [
    "test_data = datasets.FashionMNIST(\n",
    "    root=\"data\",\n",
    "    train=False,\n",
    "    download=True,\n",
    "    transform=ToTensor()\n",
    ")\n",
    "test_data"
   ]
  },
  {
   "cell_type": "markdown",
   "id": "d3d0534a-cd2c-480a-8d32-0cf8938d661f",
   "metadata": {},
   "source": [
    "### Visualizeing"
   ]
  },
  {
   "cell_type": "code",
   "execution_count": 9,
   "id": "ed423409-7ef4-431a-ac76-d228ba6b575f",
   "metadata": {},
   "outputs": [
    {
     "data": {
      "text/plain": [
       "{0: 'T-shirt/top',\n",
       " 1: 'Trouser',\n",
       " 2: 'Pullover',\n",
       " 3: 'Dress',\n",
       " 4: 'Coat',\n",
       " 5: 'Sandal',\n",
       " 6: 'Shirt',\n",
       " 7: 'Sneaker',\n",
       " 8: 'Bag',\n",
       " 9: 'Ankle boot'}"
      ]
     },
     "execution_count": 9,
     "metadata": {},
     "output_type": "execute_result"
    }
   ],
   "source": [
    "labels_map = {\n",
    " i:train_data.classes[i] for i in range(len(train_data.classes))\n",
    "}\n",
    "labels_map"
   ]
  },
  {
   "cell_type": "code",
   "execution_count": 10,
   "id": "2dfcea6b-b735-40bc-b134-466244ebde38",
   "metadata": {
    "scrolled": true
   },
   "outputs": [
    {
     "data": {
      "image/png": "[encoded data removed]",
      "text/plain": [
       "<Figure size 800x800 with 9 Axes>"
      ]
     },
     "metadata": {},
     "output_type": "display_data"
    }
   ],
   "source": [
    "figure = plt.figure(figsize=(8, 8))\n",
    "cols, rows = 3, 3\n",
    "for i in range(1, cols * rows + 1):\n",
    "    sample_idx = torch.randint(len(train_data), size=(1,)).item()\n",
    "    img, label = train_data[sample_idx]\n",
    "    figure.add_subplot(rows, cols, i)\n",
    "    plt.title(labels_map[label])\n",
    "    plt.axis(\"off\")\n",
    "    plt.imshow(img.squeeze(), cmap=\"gray\")\n",
    "plt.show()"
   ]
  },
  {
   "cell_type": "markdown",
   "id": "61e34579-8896-4cfe-a540-68e7f9e4fe49",
   "metadata": {},
   "source": [
    "### Iterate through the DataLoader"
   ]
  },
  {
   "cell_type": "code",
   "execution_count": 17,
   "id": "1382f576-bb88-44ef-8fd1-043472736c66",
   "metadata": {},
   "outputs": [],
   "source": [
    "from torch.utils.data import DataLoader\n",
    "\n",
    "train_dataloader = DataLoader(train_data, batch_size=64, shuffle=True)\n",
    "test_dataloader = DataLoader(test_data, batch_size=1024, shuffle=True)"
   ]
  },
  {
   "cell_type": "code",
   "execution_count": 12,
   "id": "15b03fb4-897d-4b4b-a412-51f4b7d71c28",
   "metadata": {},
   "outputs": [],
   "source": [
    "features, labels = next(iter(train_dataloader))"
   ]
  },
  {
   "cell_type": "code",
   "execution_count": 13,
   "id": "80e4eb53-cf32-407e-b21f-78ab5fa35d85",
   "metadata": {},
   "outputs": [
    {
     "data": {
      "text/plain": [
       "(torch.Size([64, 1, 28, 28]), torch.Size([64]))"
      ]
     },
     "execution_count": 13,
     "metadata": {},
     "output_type": "execute_result"
    }
   ],
   "source": [
    "features.shape, labels.shape"
   ]
  },
  {
   "cell_type": "code",
   "execution_count": 14,
   "id": "29ca7ae0-0914-4719-a1de-48747413c60c",
   "metadata": {},
   "outputs": [
    {
     "data": {
      "image/png": "[encoded data removed]",
      "text/plain": [
       "<Figure size 640x480 with 1 Axes>"
      ]
     },
     "metadata": {},
     "output_type": "display_data"
    }
   ],
   "source": [
    "img = features[0].squeeze()\n",
    "label = labels[0].item()\n",
    "plt.imshow(img, cmap='gray')\n",
    "plt.title(labels_map[label])\n",
    "plt.show()"
   ]
  },
  {
   "cell_type": "code",
   "execution_count": 18,
   "id": "9b5d18af-e40a-48d4-bd37-8dea73ede21c",
   "metadata": {},
   "outputs": [
    {
     "name": "stdout",
     "output_type": "stream",
     "text": [
      "torch.Size([1024, 1, 28, 28]) torch.Size([1024])\n",
      "torch.Size([1024, 1, 28, 28]) torch.Size([1024])\n",
      "torch.Size([1024, 1, 28, 28]) torch.Size([1024])\n",
      "torch.Size([1024, 1, 28, 28]) torch.Size([1024])\n",
      "torch.Size([1024, 1, 28, 28]) torch.Size([1024])\n",
      "torch.Size([1024, 1, 28, 28]) torch.Size([1024])\n",
      "torch.Size([1024, 1, 28, 28]) torch.Size([1024])\n",
      "torch.Size([1024, 1, 28, 28]) torch.Size([1024])\n",
      "torch.Size([1024, 1, 28, 28]) torch.Size([1024])\n",
      "torch.Size([784, 1, 28, 28]) torch.Size([784])\n"
     ]
    }
   ],
   "source": [
    "for batch in test_dataloader:\n",
    "    X, y = batch\n",
    "    print(X.shape, y.shape)"
   ]
  },
  {
   "cell_type": "code",
   "execution_count": null,
   "id": "ae00478c-6244-46f3-862e-1bbff493e85b",
   "metadata": {},
   "outputs": [],
   "source": []
  }
 ],
 "metadata": {
  "kernelspec": {
   "display_name": "3.8",
   "language": "python",
   "name": "3.8"
  },
  "language_info": {
   "codemirror_mode": {
    "name": "ipython",
    "version": 3
   },
   "file_extension": ".py",
   "mimetype": "text/x-python",
   "name": "python",
   "nbconvert_exporter": "python",
   "pygments_lexer": "ipython3",
   "version": "3.8.10"
  }
 },
 "nbformat": 4,
 "nbformat_minor": 5
}
