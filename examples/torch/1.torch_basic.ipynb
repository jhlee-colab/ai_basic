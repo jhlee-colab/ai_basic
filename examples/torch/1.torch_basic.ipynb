{
 "cells": [
  {
   "cell_type": "code",
   "execution_count": 1,
   "id": "e7c4cf8e-420c-41f8-9b7b-34d994b57151",
   "metadata": {},
   "outputs": [],
   "source": [
    "import torch\n",
    "import numpy as np"
   ]
  },
  {
   "cell_type": "markdown",
   "id": "791439af-7682-4124-a2b1-7c63a3742e2c",
   "metadata": {},
   "source": [
    "# Tensors\n",
    "## initializing a Tensor\n",
    "### Ones, Zeros and rand"
   ]
  },
  {
   "cell_type": "code",
   "execution_count": 2,
   "id": "032bbf93-db4f-4d29-b866-37828957c949",
   "metadata": {},
   "outputs": [
    {
     "data": {
      "text/plain": [
       "tensor([[1, 2],\n",
       "        [3, 4]])"
      ]
     },
     "execution_count": 2,
     "metadata": {},
     "output_type": "execute_result"
    }
   ],
   "source": [
    "data = [[1,2], [3,4]]\n",
    "x_data = torch.tensor(data)\n",
    "x_data"
   ]
  },
  {
   "cell_type": "code",
   "execution_count": 3,
   "id": "d51783cc-ae35-40ac-8e46-4b8239448a22",
   "metadata": {},
   "outputs": [
    {
     "data": {
      "text/plain": [
       "tensor([[1, 2],\n",
       "        [3, 4]])"
      ]
     },
     "execution_count": 3,
     "metadata": {},
     "output_type": "execute_result"
    }
   ],
   "source": [
    "x_np = torch.from_numpy(np.array(data))\n",
    "x_np"
   ]
  },
  {
   "cell_type": "code",
   "execution_count": 4,
   "id": "c9fe8299-cdc6-4c9a-9be5-c93c3671401c",
   "metadata": {},
   "outputs": [
    {
     "data": {
      "text/plain": [
       "tensor([[1, 1],\n",
       "        [1, 1]])"
      ]
     },
     "execution_count": 4,
     "metadata": {},
     "output_type": "execute_result"
    }
   ],
   "source": [
    "x_ones = torch.ones_like(x_data)\n",
    "x_ones"
   ]
  },
  {
   "cell_type": "code",
   "execution_count": 5,
   "id": "4cae24f1-afe2-4492-8feb-81d06d6d0a66",
   "metadata": {},
   "outputs": [
    {
     "data": {
      "text/plain": [
       "tensor([[0.5874, 0.2538],\n",
       "        [0.8537, 0.7065]])"
      ]
     },
     "execution_count": 5,
     "metadata": {},
     "output_type": "execute_result"
    }
   ],
   "source": [
    "x_rand = torch.rand_like(x_data, dtype=torch.float)\n",
    "x_rand"
   ]
  },
  {
   "cell_type": "code",
   "execution_count": 6,
   "id": "fccd541e-efc4-4074-bdf8-ff118e11e2e2",
   "metadata": {},
   "outputs": [
    {
     "data": {
      "text/plain": [
       "tensor([[0.3296, 0.2488, 0.6738],\n",
       "        [0.5763, 0.7046, 0.4513]])"
      ]
     },
     "execution_count": 6,
     "metadata": {},
     "output_type": "execute_result"
    }
   ],
   "source": [
    "shape = (2,3)\n",
    "rand_tensor = torch.rand(shape)\n",
    "rand_tensor"
   ]
  },
  {
   "cell_type": "code",
   "execution_count": 7,
   "id": "c36124a3-99de-492e-a2be-316158b1f60a",
   "metadata": {},
   "outputs": [
    {
     "data": {
      "text/plain": [
       "tensor([[1., 1., 1.],\n",
       "        [1., 1., 1.]])"
      ]
     },
     "execution_count": 7,
     "metadata": {},
     "output_type": "execute_result"
    }
   ],
   "source": [
    "ones_tensor = torch.ones(shape)\n",
    "ones_tensor"
   ]
  },
  {
   "cell_type": "code",
   "execution_count": 8,
   "id": "35e8c031-7491-4218-ada2-1504eed20dc0",
   "metadata": {},
   "outputs": [
    {
     "data": {
      "text/plain": [
       "tensor([[0., 0., 0.],\n",
       "        [0., 0., 0.]])"
      ]
     },
     "execution_count": 8,
     "metadata": {},
     "output_type": "execute_result"
    }
   ],
   "source": [
    "zeros_tensor = torch.zeros(shape)\n",
    "zeros_tensor"
   ]
  },
  {
   "cell_type": "markdown",
   "id": "7a26911c-7ecd-45ef-81bb-d727abb6c3f8",
   "metadata": {},
   "source": [
    "## Attributes of a Tensor\n",
    "### Shape"
   ]
  },
  {
   "cell_type": "code",
   "execution_count": 9,
   "id": "919490aa-d83f-429c-bf6d-99bfe8edef47",
   "metadata": {},
   "outputs": [
    {
     "data": {
      "text/plain": [
       "(torch.Size([3, 4]), torch.float32, device(type='cpu'))"
      ]
     },
     "execution_count": 9,
     "metadata": {},
     "output_type": "execute_result"
    }
   ],
   "source": [
    "tensor = torch.rand(3,4)\n",
    "tensor.shape, tensor.dtype, tensor.device"
   ]
  },
  {
   "cell_type": "markdown",
   "id": "1a9e2e85-e538-4614-9730-7e482b3594b6",
   "metadata": {},
   "source": [
    "### Slice"
   ]
  },
  {
   "cell_type": "code",
   "execution_count": 10,
   "id": "4e3c194e-3143-488c-b558-cbfadb4bd8a3",
   "metadata": {},
   "outputs": [
    {
     "data": {
      "text/plain": [
       "tensor([[0.4545, 0.1884, 0.1101, 0.8394],\n",
       "        [0.8243, 0.1715, 0.9009, 0.6041],\n",
       "        [0.8475, 0.0328, 0.6831, 0.4888]], device='cuda:0')"
      ]
     },
     "execution_count": 10,
     "metadata": {},
     "output_type": "execute_result"
    }
   ],
   "source": [
    "# gpu\n",
    "if torch.cuda.is_available():\n",
    "    tensor = tensor.to('cuda')\n",
    "tensor"
   ]
  },
  {
   "cell_type": "code",
   "execution_count": 11,
   "id": "78b5cae9-70fa-4cd1-8d20-0cae0356dcfc",
   "metadata": {},
   "outputs": [
    {
     "data": {
      "text/plain": [
       "tensor([[ 1.,  2.,  3.,  4.],\n",
       "        [ 5.,  6.,  7.,  8.],\n",
       "        [ 9., 10., 11., 12.],\n",
       "        [13., 14., 15., 16.]])"
      ]
     },
     "execution_count": 11,
     "metadata": {},
     "output_type": "execute_result"
    }
   ],
   "source": [
    "tensor = torch.tensor([\n",
    "    [1,2,3,4],\n",
    "    [5,6,7,8],\n",
    "    [9,10,11,12],\n",
    "    [13,14,15,16]\n",
    "], dtype=torch.float)\n",
    "tensor"
   ]
  },
  {
   "cell_type": "code",
   "execution_count": 12,
   "id": "d0d27c0b-c8fc-4fbd-bf2f-06337b9d6dd3",
   "metadata": {},
   "outputs": [
    {
     "data": {
      "text/plain": [
       "tensor([1., 2., 3., 4.])"
      ]
     },
     "execution_count": 12,
     "metadata": {},
     "output_type": "execute_result"
    }
   ],
   "source": [
    "tensor[0]"
   ]
  },
  {
   "cell_type": "code",
   "execution_count": 13,
   "id": "0e5a2af0-20a8-49bb-95d2-11cbba597523",
   "metadata": {},
   "outputs": [
    {
     "data": {
      "text/plain": [
       "tensor([ 1.,  5.,  9., 13.])"
      ]
     },
     "execution_count": 13,
     "metadata": {},
     "output_type": "execute_result"
    }
   ],
   "source": [
    "tensor[:, 0]"
   ]
  },
  {
   "cell_type": "code",
   "execution_count": 14,
   "id": "77a81145-cb3b-4561-8a23-64a8eec004f3",
   "metadata": {},
   "outputs": [
    {
     "data": {
      "text/plain": [
       "tensor([ 4.,  8., 12., 16.])"
      ]
     },
     "execution_count": 14,
     "metadata": {},
     "output_type": "execute_result"
    }
   ],
   "source": [
    "tensor[...,-1]"
   ]
  },
  {
   "cell_type": "code",
   "execution_count": 15,
   "id": "e75d41b5-4e4b-43d2-b484-f7561c3b0809",
   "metadata": {},
   "outputs": [
    {
     "data": {
      "text/plain": [
       "tensor([[ 1.,  0.,  3.,  4.],\n",
       "        [ 5.,  0.,  7.,  8.],\n",
       "        [ 9.,  0., 11., 12.],\n",
       "        [13.,  0., 15., 16.]])"
      ]
     },
     "execution_count": 15,
     "metadata": {},
     "output_type": "execute_result"
    }
   ],
   "source": [
    "tensor[:, 1] = 0\n",
    "tensor"
   ]
  },
  {
   "cell_type": "code",
   "execution_count": 16,
   "id": "24b5ca28-eb23-4385-b709-091e76d5d7b6",
   "metadata": {},
   "outputs": [
    {
     "data": {
      "text/plain": [
       "torch.Size([4, 4])"
      ]
     },
     "execution_count": 16,
     "metadata": {},
     "output_type": "execute_result"
    }
   ],
   "source": [
    "tensor.shape"
   ]
  },
  {
   "cell_type": "markdown",
   "id": "7e15cad1-ae30-41a4-87c0-05adc59ad1a8",
   "metadata": {},
   "source": [
    "### Concatenate and Stacking"
   ]
  },
  {
   "cell_type": "code",
   "execution_count": 17,
   "id": "d7c17987-095c-4c4f-95c9-33876103af28",
   "metadata": {},
   "outputs": [
    {
     "data": {
      "text/plain": [
       "tensor([[ 1.,  0.,  3.,  4.,  1.,  0.,  3.,  4.,  1.,  0.,  3.,  4.],\n",
       "        [ 5.,  0.,  7.,  8.,  5.,  0.,  7.,  8.,  5.,  0.,  7.,  8.],\n",
       "        [ 9.,  0., 11., 12.,  9.,  0., 11., 12.,  9.,  0., 11., 12.],\n",
       "        [13.,  0., 15., 16., 13.,  0., 15., 16., 13.,  0., 15., 16.]])"
      ]
     },
     "execution_count": 17,
     "metadata": {},
     "output_type": "execute_result"
    }
   ],
   "source": [
    "t1 = torch.cat([tensor, tensor, tensor], dim=1)\n",
    "t1"
   ]
  },
  {
   "cell_type": "code",
   "execution_count": 18,
   "id": "c438ca35-2a3d-41a7-8c6f-c466aeaf6a03",
   "metadata": {},
   "outputs": [
    {
     "data": {
      "text/plain": [
       "tensor([[ 1.,  0.,  3.,  4.],\n",
       "        [ 5.,  0.,  7.,  8.],\n",
       "        [ 9.,  0., 11., 12.],\n",
       "        [13.,  0., 15., 16.],\n",
       "        [ 1.,  0.,  3.,  4.],\n",
       "        [ 5.,  0.,  7.,  8.],\n",
       "        [ 9.,  0., 11., 12.],\n",
       "        [13.,  0., 15., 16.],\n",
       "        [ 1.,  0.,  3.,  4.],\n",
       "        [ 5.,  0.,  7.,  8.],\n",
       "        [ 9.,  0., 11., 12.],\n",
       "        [13.,  0., 15., 16.]])"
      ]
     },
     "execution_count": 18,
     "metadata": {},
     "output_type": "execute_result"
    }
   ],
   "source": [
    "t2 = torch.cat([tensor, tensor, tensor], dim=0)\n",
    "t2"
   ]
  },
  {
   "cell_type": "code",
   "execution_count": 19,
   "id": "79270fad-5b62-4eef-830e-d4be3e77471f",
   "metadata": {},
   "outputs": [
    {
     "data": {
      "text/plain": [
       "(torch.Size([4, 12]), torch.Size([12, 4]))"
      ]
     },
     "execution_count": 19,
     "metadata": {},
     "output_type": "execute_result"
    }
   ],
   "source": [
    "t1.shape, t2.shape"
   ]
  },
  {
   "cell_type": "code",
   "execution_count": 20,
   "id": "f3f56bdc-8207-4c47-a668-63f9a27a5589",
   "metadata": {},
   "outputs": [
    {
     "data": {
      "text/plain": [
       "tensor([[[ 1.,  0.,  3.,  4.],\n",
       "         [ 5.,  0.,  7.,  8.],\n",
       "         [ 9.,  0., 11., 12.],\n",
       "         [13.,  0., 15., 16.]],\n",
       "\n",
       "        [[ 1.,  0.,  3.,  4.],\n",
       "         [ 5.,  0.,  7.,  8.],\n",
       "         [ 9.,  0., 11., 12.],\n",
       "         [13.,  0., 15., 16.]],\n",
       "\n",
       "        [[ 1.,  0.,  3.,  4.],\n",
       "         [ 5.,  0.,  7.,  8.],\n",
       "         [ 9.,  0., 11., 12.],\n",
       "         [13.,  0., 15., 16.]]])"
      ]
     },
     "execution_count": 20,
     "metadata": {},
     "output_type": "execute_result"
    }
   ],
   "source": [
    "t3 = torch.stack([tensor, tensor, tensor])\n",
    "t3"
   ]
  },
  {
   "cell_type": "code",
   "execution_count": 21,
   "id": "28d1599d-c3d9-493f-9fff-3d0ba4a95de9",
   "metadata": {},
   "outputs": [
    {
     "data": {
      "text/plain": [
       "tensor([[[ 1.,  0.,  3.,  4.],\n",
       "         [ 1.,  0.,  3.,  4.],\n",
       "         [ 1.,  0.,  3.,  4.]],\n",
       "\n",
       "        [[ 5.,  0.,  7.,  8.],\n",
       "         [ 5.,  0.,  7.,  8.],\n",
       "         [ 5.,  0.,  7.,  8.]],\n",
       "\n",
       "        [[ 9.,  0., 11., 12.],\n",
       "         [ 9.,  0., 11., 12.],\n",
       "         [ 9.,  0., 11., 12.]],\n",
       "\n",
       "        [[13.,  0., 15., 16.],\n",
       "         [13.,  0., 15., 16.],\n",
       "         [13.,  0., 15., 16.]]])"
      ]
     },
     "execution_count": 21,
     "metadata": {},
     "output_type": "execute_result"
    }
   ],
   "source": [
    "t4 = torch.stack([tensor, tensor, tensor], dim=1)\n",
    "t4"
   ]
  },
  {
   "cell_type": "code",
   "execution_count": 22,
   "id": "c5d07682-ced2-4a4b-acad-c42c52070a07",
   "metadata": {},
   "outputs": [
    {
     "data": {
      "text/plain": [
       "(torch.Size([3, 4, 4]), torch.Size([4, 3, 4]))"
      ]
     },
     "execution_count": 22,
     "metadata": {},
     "output_type": "execute_result"
    }
   ],
   "source": [
    "t3.shape, t4.shape"
   ]
  },
  {
   "cell_type": "markdown",
   "id": "9d760f92-6d72-46ac-8759-0aece9870bdc",
   "metadata": {},
   "source": [
    "### Matrix Mulplication"
   ]
  },
  {
   "cell_type": "code",
   "execution_count": 23,
   "id": "54c1af9c-4e48-45b5-8b29-6020c4db23b3",
   "metadata": {},
   "outputs": [
    {
     "name": "stdout",
     "output_type": "stream",
     "text": [
      "torch.Size([3, 4]) torch.Size([4, 3])\n"
     ]
    },
    {
     "data": {
      "text/plain": [
       "tensor([[3., 3., 3.],\n",
       "        [3., 3., 3.],\n",
       "        [3., 3., 3.]])"
      ]
     },
     "execution_count": 23,
     "metadata": {},
     "output_type": "execute_result"
    }
   ],
   "source": [
    "tensor = torch.ones((3,4))\n",
    "tensor[:, 1] = 0\n",
    "print(tensor.shape, tensor.T.shape)\n",
    "y1 = tensor @ tensor.T\n",
    "y1"
   ]
  },
  {
   "cell_type": "code",
   "execution_count": 24,
   "id": "ba00e81b-3d1e-44b6-8416-af17e20a183f",
   "metadata": {},
   "outputs": [
    {
     "name": "stdout",
     "output_type": "stream",
     "text": [
      "mat1 and mat2 shapes cannot be multiplied (3x4 and 3x4)\n"
     ]
    }
   ],
   "source": [
    "try:\n",
    "    tensor @ tensor\n",
    "except Exception as err:\n",
    "    print(err)"
   ]
  },
  {
   "cell_type": "code",
   "execution_count": 25,
   "id": "60572807-d925-462c-9aa8-5f31a82c5b69",
   "metadata": {},
   "outputs": [
    {
     "data": {
      "text/plain": [
       "tensor([[3., 3., 3.],\n",
       "        [3., 3., 3.],\n",
       "        [3., 3., 3.]])"
      ]
     },
     "execution_count": 25,
     "metadata": {},
     "output_type": "execute_result"
    }
   ],
   "source": [
    "y2 = tensor.matmul(tensor.T)\n",
    "y2"
   ]
  },
  {
   "cell_type": "code",
   "execution_count": 26,
   "id": "0ff526ea-1fbe-42f3-9932-c7cfb8988fa9",
   "metadata": {},
   "outputs": [
    {
     "name": "stdout",
     "output_type": "stream",
     "text": [
      "mat1 and mat2 shapes cannot be multiplied (3x4 and 3x4)\n"
     ]
    }
   ],
   "source": [
    "try:\n",
    "    tensor.matmul(tensor)\n",
    "except Exception as err:\n",
    "    print(err)"
   ]
  },
  {
   "cell_type": "code",
   "execution_count": 27,
   "id": "09bc7861-78fe-4d4c-9575-74a7e5df81ca",
   "metadata": {},
   "outputs": [
    {
     "data": {
      "text/plain": [
       "tensor([[0., 1., 0., 0.],\n",
       "        [0., 1., 0., 0.],\n",
       "        [0., 1., 0., 0.]])"
      ]
     },
     "execution_count": 27,
     "metadata": {},
     "output_type": "execute_result"
    }
   ],
   "source": [
    "tensor2 = torch.zeros(3,4)\n",
    "tensor2[:, 1] = 1\n",
    "tensor2"
   ]
  },
  {
   "cell_type": "code",
   "execution_count": 28,
   "id": "f5ed5bb7-a4ab-4071-b82a-61c438845abe",
   "metadata": {},
   "outputs": [
    {
     "data": {
      "text/plain": [
       "tensor([[0., 0., 0., 0.],\n",
       "        [0., 0., 0., 0.],\n",
       "        [0., 0., 0., 0.]])"
      ]
     },
     "execution_count": 28,
     "metadata": {},
     "output_type": "execute_result"
    }
   ],
   "source": [
    "# only for same shape\n",
    "z1 = tensor * tensor2\n",
    "z1"
   ]
  },
  {
   "cell_type": "code",
   "execution_count": 29,
   "id": "5dc5c2d6-d7e1-4c04-81a6-6676ec585535",
   "metadata": {},
   "outputs": [
    {
     "name": "stdout",
     "output_type": "stream",
     "text": [
      "The size of tensor a (4) must match the size of tensor b (3) at non-singleton dimension 1\n"
     ]
    }
   ],
   "source": [
    "try:\n",
    "    tensor * tensor.T\n",
    "except Exception as err:\n",
    "    print(err)"
   ]
  },
  {
   "cell_type": "code",
   "execution_count": 30,
   "id": "eded3a76-c400-4444-9941-333572e46e06",
   "metadata": {},
   "outputs": [
    {
     "data": {
      "text/plain": [
       "tensor([[0.1863, 0.6782, 0.5466, 0.6368],\n",
       "        [0.7765, 0.6574, 0.7006, 0.2667],\n",
       "        [0.2627, 0.3378, 0.0912, 0.6786]])"
      ]
     },
     "execution_count": 30,
     "metadata": {},
     "output_type": "execute_result"
    }
   ],
   "source": [
    "z3 = torch.rand_like(tensor)\n",
    "z3"
   ]
  },
  {
   "cell_type": "code",
   "execution_count": 31,
   "id": "2ee9bdc1-1969-4815-a287-b2504573faf2",
   "metadata": {
    "scrolled": true
   },
   "outputs": [
    {
     "data": {
      "text/plain": [
       "tensor([[1., 0., 1., 1.],\n",
       "        [1., 0., 1., 1.],\n",
       "        [1., 0., 1., 1.]])"
      ]
     },
     "execution_count": 31,
     "metadata": {},
     "output_type": "execute_result"
    }
   ],
   "source": [
    "# out augment\n",
    "torch.mul(tensor, tensor, out=z3)\n",
    "z3"
   ]
  },
  {
   "cell_type": "markdown",
   "id": "60187bf9-b232-4129-8d63-878cafb9d2ed",
   "metadata": {},
   "source": [
    "### Sum, Broadcasting, Mean, Max and Argmax"
   ]
  },
  {
   "cell_type": "code",
   "execution_count": 32,
   "id": "61eabd2a-a627-44c7-bb7a-5149b5be2963",
   "metadata": {},
   "outputs": [
    {
     "data": {
      "text/plain": [
       "tensor(9.)"
      ]
     },
     "execution_count": 32,
     "metadata": {},
     "output_type": "execute_result"
    }
   ],
   "source": [
    "tensor.sum()"
   ]
  },
  {
   "cell_type": "code",
   "execution_count": 33,
   "id": "448995ea-3467-4385-9aa7-4b4d36289d16",
   "metadata": {},
   "outputs": [
    {
     "data": {
      "text/plain": [
       "tensor([[6., 5., 6., 6.],\n",
       "        [6., 5., 6., 6.],\n",
       "        [6., 5., 6., 6.]])"
      ]
     },
     "execution_count": 33,
     "metadata": {},
     "output_type": "execute_result"
    }
   ],
   "source": [
    "tensor.add_(5)"
   ]
  },
  {
   "cell_type": "code",
   "execution_count": 34,
   "id": "748141f2-1f53-4dfe-8eca-efa10c995224",
   "metadata": {},
   "outputs": [
    {
     "data": {
      "text/plain": [
       "tensor([5., 5.])"
      ]
     },
     "execution_count": 34,
     "metadata": {},
     "output_type": "execute_result"
    }
   ],
   "source": [
    "# same shape\n",
    "t1 = torch.tensor([3,3], dtype=torch.float)\n",
    "t2 = torch.tensor([2,2,], dtype=torch.float)\n",
    "t1 + t2"
   ]
  },
  {
   "cell_type": "code",
   "execution_count": 35,
   "id": "151d2866-db51-4f77-acec-9bad87cf154b",
   "metadata": {},
   "outputs": [
    {
     "data": {
      "text/plain": [
       "tensor([4., 5.])"
      ]
     },
     "execution_count": 35,
     "metadata": {},
     "output_type": "execute_result"
    }
   ],
   "source": [
    "# vector + scalar\n",
    "t1 = torch.tensor([1,2], dtype=torch.float)\n",
    "t2 = torch.tensor([3], dtype=torch.float)\n",
    "t1 + t2"
   ]
  },
  {
   "cell_type": "code",
   "execution_count": 36,
   "id": "140a8e82-3037-4f2f-be9a-5400deefa9e0",
   "metadata": {},
   "outputs": [
    {
     "data": {
      "text/plain": [
       "tensor([[4., 5.],\n",
       "        [5., 6.]])"
      ]
     },
     "execution_count": 36,
     "metadata": {},
     "output_type": "execute_result"
    }
   ],
   "source": [
    "# 2x1 vector + 1x2 vector\n",
    "t1 = torch.tensor([1,2], dtype=torch.float)\n",
    "t2 = torch.tensor([[3],[4]], dtype=torch.float)\n",
    "t1 + t2"
   ]
  },
  {
   "cell_type": "code",
   "execution_count": 37,
   "id": "cd549ede-5921-4367-809c-e8ed795ee0ce",
   "metadata": {},
   "outputs": [
    {
     "data": {
      "text/plain": [
       "tensor(1.5000)"
      ]
     },
     "execution_count": 37,
     "metadata": {},
     "output_type": "execute_result"
    }
   ],
   "source": [
    "# mean\n",
    "t = torch.tensor([1,2], dtype=torch.float)\n",
    "t.mean()"
   ]
  },
  {
   "cell_type": "code",
   "execution_count": 38,
   "id": "6a6062ae-b1b5-4153-ab3f-ac90f9e82a4b",
   "metadata": {},
   "outputs": [
    {
     "name": "stdout",
     "output_type": "stream",
     "text": [
      "mean(): could not infer output dtype. Input dtype must be either a floating point or complex dtype. Got: Long\n"
     ]
    }
   ],
   "source": [
    "t = torch.tensor([1,2], dtype=torch.long)\n",
    "try:\n",
    "    t.mean()\n",
    "except Exception as err:\n",
    "    print(err)"
   ]
  },
  {
   "cell_type": "code",
   "execution_count": 39,
   "id": "0a2ed09a-e287-47c8-9c93-25937980a640",
   "metadata": {},
   "outputs": [
    {
     "data": {
      "text/plain": [
       "tensor([[1., 2.],\n",
       "        [3., 4.]])"
      ]
     },
     "execution_count": 39,
     "metadata": {},
     "output_type": "execute_result"
    }
   ],
   "source": [
    "t = torch.tensor([[1,2], [3,4]], dtype=torch.float)\n",
    "t"
   ]
  },
  {
   "cell_type": "code",
   "execution_count": 40,
   "id": "c29d0f06-51ac-4137-b604-4217f7fde2f2",
   "metadata": {},
   "outputs": [
    {
     "data": {
      "text/plain": [
       "(tensor(2.5000),\n",
       " tensor([2., 3.]),\n",
       " tensor([1.5000, 3.5000]),\n",
       " tensor([1.5000, 3.5000]))"
      ]
     },
     "execution_count": 40,
     "metadata": {},
     "output_type": "execute_result"
    }
   ],
   "source": [
    "t.mean(), t.mean(dim=0), t.mean(dim=1), t.mean(dim=-1)"
   ]
  },
  {
   "cell_type": "code",
   "execution_count": 41,
   "id": "284aec4f-d6ca-4f95-9d9e-8b6de1972515",
   "metadata": {},
   "outputs": [
    {
     "data": {
      "text/plain": [
       "(tensor(10.), tensor([4., 6.]), tensor([3., 7.]), tensor([3., 7.]))"
      ]
     },
     "execution_count": 41,
     "metadata": {},
     "output_type": "execute_result"
    }
   ],
   "source": [
    "t.sum(), t.sum(dim=0), t.sum(dim=1), t.sum(dim=-1)"
   ]
  },
  {
   "cell_type": "code",
   "execution_count": 42,
   "id": "b9a6582d-3488-45da-9720-9b41830857b0",
   "metadata": {},
   "outputs": [
    {
     "data": {
      "text/plain": [
       "(tensor(4.),\n",
       " torch.return_types.max(\n",
       " values=tensor([3., 4.]),\n",
       " indices=tensor([1, 1])),\n",
       " torch.return_types.max(\n",
       " values=tensor([2., 4.]),\n",
       " indices=tensor([1, 1])),\n",
       " torch.return_types.max(\n",
       " values=tensor([2., 4.]),\n",
       " indices=tensor([1, 1])))"
      ]
     },
     "execution_count": 42,
     "metadata": {},
     "output_type": "execute_result"
    }
   ],
   "source": [
    "t.max(), t.max(dim=0), t.max(dim=1), t.max(dim=-1)"
   ]
  },
  {
   "cell_type": "code",
   "execution_count": 43,
   "id": "74846f2b-171c-460a-b58c-032c7d94ed51",
   "metadata": {},
   "outputs": [
    {
     "data": {
      "text/plain": [
       "tensor([[1., 0., 0., 0.],\n",
       "        [0., 0., 0., 0.],\n",
       "        [0., 0., 1., 0.],\n",
       "        [0., 0., 0., 1.]])"
      ]
     },
     "execution_count": 43,
     "metadata": {},
     "output_type": "execute_result"
    }
   ],
   "source": [
    "t = torch.eye(4)\n",
    "t[:, 1] = 0\n",
    "t"
   ]
  },
  {
   "cell_type": "code",
   "execution_count": 44,
   "id": "dbf3819a-a2d8-4e8d-a5eb-5a22baa3fd10",
   "metadata": {},
   "outputs": [
    {
     "data": {
      "text/plain": [
       "(tensor(0), tensor([0, 0, 2, 3]), tensor([0, 0, 2, 3]), tensor([0, 0, 2, 3]))"
      ]
     },
     "execution_count": 44,
     "metadata": {},
     "output_type": "execute_result"
    }
   ],
   "source": [
    "t.argmax(), t.argmax(dim=0), t.argmax(dim=1), t.argmax(dim=-1)"
   ]
  },
  {
   "cell_type": "markdown",
   "id": "e94f1324-2022-4263-b942-9c16a5a98426",
   "metadata": {},
   "source": [
    "### Bridge with NumPy\n",
    "- CPU 상의 텐서는 메모리 위치를 공유해서 사용"
   ]
  },
  {
   "cell_type": "code",
   "execution_count": 45,
   "id": "fe0c2857-062d-4526-acf0-4609f6873361",
   "metadata": {},
   "outputs": [
    {
     "data": {
      "text/plain": [
       "(tensor([1., 1., 1., 1., 1.]), array([1., 1., 1., 1., 1.], dtype=float32))"
      ]
     },
     "execution_count": 45,
     "metadata": {},
     "output_type": "execute_result"
    }
   ],
   "source": [
    "t = torch.ones(5)\n",
    "n = t.numpy()\n",
    "t, n"
   ]
  },
  {
   "cell_type": "code",
   "execution_count": 46,
   "id": "da1240c3-9460-4d6f-9639-533156b73749",
   "metadata": {},
   "outputs": [
    {
     "data": {
      "text/plain": [
       "(tensor([2., 2., 2., 2., 2.]), array([2., 2., 2., 2., 2.], dtype=float32))"
      ]
     },
     "execution_count": 46,
     "metadata": {},
     "output_type": "execute_result"
    }
   ],
   "source": [
    "t.add_(1)\n",
    "t, n"
   ]
  },
  {
   "cell_type": "code",
   "execution_count": 47,
   "id": "e707c1d1-081a-4528-9ee4-32a12f67c1b9",
   "metadata": {},
   "outputs": [
    {
     "data": {
      "text/plain": [
       "(tensor([1., 1., 1., 1., 1.], dtype=torch.float64),\n",
       " array([1., 1., 1., 1., 1.]))"
      ]
     },
     "execution_count": 47,
     "metadata": {},
     "output_type": "execute_result"
    }
   ],
   "source": [
    "n = np.ones(5)\n",
    "t = torch.from_numpy(n)\n",
    "t, n"
   ]
  },
  {
   "cell_type": "code",
   "execution_count": 48,
   "id": "fa59d83a-0942-4963-b8ed-2309e6857643",
   "metadata": {},
   "outputs": [
    {
     "data": {
      "text/plain": [
       "(tensor([2., 2., 2., 2., 2.], dtype=torch.float64),\n",
       " array([2., 2., 2., 2., 2.]))"
      ]
     },
     "execution_count": 48,
     "metadata": {},
     "output_type": "execute_result"
    }
   ],
   "source": [
    "np.add(n, 1, out=n)\n",
    "t, n"
   ]
  },
  {
   "cell_type": "code",
   "execution_count": 49,
   "id": "00ca86b4-8b59-48e8-a014-b10d5cfa6bf4",
   "metadata": {},
   "outputs": [
    {
     "data": {
      "text/plain": [
       "tensor([1., 1., 1., 1., 1.], device='cuda:0')"
      ]
     },
     "execution_count": 49,
     "metadata": {},
     "output_type": "execute_result"
    }
   ],
   "source": [
    "t = torch.ones(5).to('cuda')\n",
    "t"
   ]
  },
  {
   "cell_type": "code",
   "execution_count": 50,
   "id": "fe3de62d-a8d2-466e-a874-5383e1547050",
   "metadata": {},
   "outputs": [
    {
     "name": "stdout",
     "output_type": "stream",
     "text": [
      "can't convert cuda:0 device type tensor to numpy. Use Tensor.cpu() to copy the tensor to host memory first.\n"
     ]
    }
   ],
   "source": [
    "# numpy() is not available at cuda device\n",
    "try:\n",
    "    t.numpy()\n",
    "except Exception as err:\n",
    "    print(err)"
   ]
  },
  {
   "cell_type": "code",
   "execution_count": 51,
   "id": "6906d0da-807d-4cf2-9b4d-d5545a84a2ea",
   "metadata": {},
   "outputs": [],
   "source": [
    "n = t.cpu().numpy()"
   ]
  },
  {
   "cell_type": "code",
   "execution_count": 52,
   "id": "80368289-4ced-4531-abfa-c8708193bd5b",
   "metadata": {},
   "outputs": [
    {
     "data": {
      "text/plain": [
       "(tensor([2., 2., 2., 2., 2.], device='cuda:0'),\n",
       " array([1., 1., 1., 1., 1.], dtype=float32))"
      ]
     },
     "execution_count": 52,
     "metadata": {},
     "output_type": "execute_result"
    }
   ],
   "source": [
    "t.add_(1)\n",
    "t, n"
   ]
  },
  {
   "cell_type": "markdown",
   "id": "65d4ae73-efba-4d4c-9d35-74fc22cf26f9",
   "metadata": {},
   "source": [
    "### Squeeze and Unsqueeze"
   ]
  },
  {
   "cell_type": "code",
   "execution_count": 57,
   "id": "bb7edc19-4ce7-47d5-a6dd-8196b434ba8f",
   "metadata": {},
   "outputs": [
    {
     "name": "stdout",
     "output_type": "stream",
     "text": [
      "tensor([[0.],\n",
      "        [1.],\n",
      "        [2.]])\n",
      "torch.Size([3, 1])\n"
     ]
    }
   ],
   "source": [
    "t = torch.tensor([[0],[1],[2]], dtype=torch.float)\n",
    "print(t)\n",
    "print(t.shape)"
   ]
  },
  {
   "cell_type": "code",
   "execution_count": 58,
   "id": "7193f740-4593-4829-b6cb-fcccac3a7a17",
   "metadata": {},
   "outputs": [
    {
     "name": "stdout",
     "output_type": "stream",
     "text": [
      "tensor([0., 1., 2.])\n"
     ]
    },
    {
     "data": {
      "text/plain": [
       "torch.Size([3])"
      ]
     },
     "execution_count": 58,
     "metadata": {},
     "output_type": "execute_result"
    }
   ],
   "source": [
    "print(t.squeeze())\n",
    "t.squeeze().shape"
   ]
  },
  {
   "cell_type": "code",
   "execution_count": 59,
   "id": "89471f7c-ec29-4203-a206-7a8655460f0f",
   "metadata": {},
   "outputs": [
    {
     "name": "stdout",
     "output_type": "stream",
     "text": [
      "tensor([0., 1., 2.])\n"
     ]
    },
    {
     "data": {
      "text/plain": [
       "torch.Size([3])"
      ]
     },
     "execution_count": 59,
     "metadata": {},
     "output_type": "execute_result"
    }
   ],
   "source": [
    "t = torch.tensor([0, 1,2], dtype=torch.float)\n",
    "print(t)\n",
    "t.shape"
   ]
  },
  {
   "cell_type": "code",
   "execution_count": 60,
   "id": "d8fc7d23-0c70-4909-9e0d-ed1a6ea66d8a",
   "metadata": {},
   "outputs": [
    {
     "name": "stdout",
     "output_type": "stream",
     "text": [
      "tensor([[0., 1., 2.]])\n"
     ]
    },
    {
     "data": {
      "text/plain": [
       "torch.Size([1, 3])"
      ]
     },
     "execution_count": 60,
     "metadata": {},
     "output_type": "execute_result"
    }
   ],
   "source": [
    "print(t.unsqueeze(0))\n",
    "t.unsqueeze(0).shape"
   ]
  },
  {
   "cell_type": "code",
   "execution_count": 61,
   "id": "cdcdcc02-ae02-4bc7-97aa-aa4b423b2697",
   "metadata": {},
   "outputs": [
    {
     "data": {
      "text/plain": [
       "tensor([[0., 1., 2.]])"
      ]
     },
     "execution_count": 61,
     "metadata": {},
     "output_type": "execute_result"
    }
   ],
   "source": [
    "t.view(1,-1)"
   ]
  },
  {
   "cell_type": "code",
   "execution_count": 62,
   "id": "26e999e1-c802-41f2-aa38-cbf42e4ec472",
   "metadata": {},
   "outputs": [
    {
     "data": {
      "text/plain": [
       "tensor([[0.],\n",
       "        [1.],\n",
       "        [2.]])"
      ]
     },
     "execution_count": 62,
     "metadata": {},
     "output_type": "execute_result"
    }
   ],
   "source": [
    "t.unsqueeze(1)"
   ]
  },
  {
   "cell_type": "markdown",
   "id": "7c43ed7c-93dc-4983-95cf-27b5005b6d76",
   "metadata": {},
   "source": [
    "### Type Casting"
   ]
  },
  {
   "cell_type": "code",
   "execution_count": 64,
   "id": "013f3da6-7b41-4363-94df-a065c6943960",
   "metadata": {},
   "outputs": [
    {
     "data": {
      "text/plain": [
       "tensor([1, 2, 3, 4])"
      ]
     },
     "execution_count": 64,
     "metadata": {},
     "output_type": "execute_result"
    }
   ],
   "source": [
    "lt = torch.tensor([1,2,3,4], dtype=torch.long)\n",
    "lt"
   ]
  },
  {
   "cell_type": "code",
   "execution_count": 66,
   "id": "e68fb009-8c39-4d2c-8387-b3dcb277e22f",
   "metadata": {},
   "outputs": [
    {
     "data": {
      "text/plain": [
       "tensor([1., 2., 3., 4.])"
      ]
     },
     "execution_count": 66,
     "metadata": {},
     "output_type": "execute_result"
    }
   ],
   "source": [
    "lt.float()"
   ]
  },
  {
   "cell_type": "code",
   "execution_count": 68,
   "id": "43c0840e-768e-4506-ab79-69a62dd8dc74",
   "metadata": {},
   "outputs": [
    {
     "data": {
      "text/plain": [
       "tensor([1, 0, 0, 1], dtype=torch.uint8)"
      ]
     },
     "execution_count": 68,
     "metadata": {},
     "output_type": "execute_result"
    }
   ],
   "source": [
    "bt = torch.tensor([True, False, False, True], dtype=torch.uint8)\n",
    "bt"
   ]
  },
  {
   "cell_type": "code",
   "execution_count": 69,
   "id": "118115a0-621f-479d-94c7-b29060e2061d",
   "metadata": {},
   "outputs": [
    {
     "name": "stdout",
     "output_type": "stream",
     "text": [
      "tensor([1, 0, 0, 1])\n"
     ]
    },
    {
     "data": {
      "text/plain": [
       "tensor([1., 0., 0., 1.])"
      ]
     },
     "execution_count": 69,
     "metadata": {},
     "output_type": "execute_result"
    }
   ],
   "source": [
    "print(bt.long())\n",
    "bt.float()"
   ]
  },
  {
   "cell_type": "code",
   "execution_count": null,
   "id": "0acf7704-de60-4afa-8d67-f2b53d42462a",
   "metadata": {},
   "outputs": [],
   "source": []
  },
  {
   "cell_type": "code",
   "execution_count": null,
   "id": "c79b372a-15f6-4105-b4c6-3f1629cfd0e2",
   "metadata": {},
   "outputs": [],
   "source": []
  },
  {
   "cell_type": "code",
   "execution_count": null,
   "id": "a3853280-f9e7-494b-9556-105ad55bddac",
   "metadata": {},
   "outputs": [],
   "source": []
  }
 ],
 "metadata": {
  "kernelspec": {
   "display_name": "3.8",
   "language": "python",
   "name": "3.8"
  },
  "language_info": {
   "codemirror_mode": {
    "name": "ipython",
    "version": 3
   },
   "file_extension": ".py",
   "mimetype": "text/x-python",
   "name": "python",
   "nbconvert_exporter": "python",
   "pygments_lexer": "ipython3",
   "version": "3.8.10"
  }
 },
 "nbformat": 4,
 "nbformat_minor": 5
}
