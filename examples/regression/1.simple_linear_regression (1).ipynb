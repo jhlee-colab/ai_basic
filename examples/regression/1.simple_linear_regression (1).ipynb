{
 "cells": [
  {
   "cell_type": "code",
   "execution_count": 1,
   "id": "23366c92-4780-4e3b-8326-dfad5071143c",
   "metadata": {},
   "outputs": [],
   "source": [
    "import torch\n",
    "import torch.optim as optim"
   ]
  },
  {
   "cell_type": "markdown",
   "id": "3ea8621a-0641-4730-aedc-5c40f273e0de",
   "metadata": {},
   "source": [
    "### 1. Data Definition: vector\n",
    "$\\mathbf{X}_{train}=\\begin{pmatrix}73&80&75 \\\\ 93&88&93 \\\\ 89&91&80 \\\\ & \\vdots \\end{pmatrix}, \\ $ $\\mathbf{Y}_{train}=\\begin{pmatrix}152 \\\\ 185 \\\\ 180 \\\\ \\vdots \\end{pmatrix}$"
   ]
  },
  {
   "cell_type": "code",
   "execution_count": 26,
   "id": "87cfdbfe-c3a9-4413-9adf-b59af4c0d3e7",
   "metadata": {},
   "outputs": [
    {
     "data": {
      "text/plain": [
       "(tensor([[ 73.,  80.,  75.],\n",
       "         [ 93.,  88.,  93.],\n",
       "         [ 89.,  91.,  80.],\n",
       "         [ 96.,  98., 100.],\n",
       "         [ 73.,  66.,  70.]]),\n",
       " tensor([[152.],\n",
       "         [185.],\n",
       "         [180.],\n",
       "         [196.],\n",
       "         [142.]]))"
      ]
     },
     "execution_count": 26,
     "metadata": {},
     "output_type": "execute_result"
    }
   ],
   "source": [
    "x_train = torch.tensor([[73, 80, 75],[93, 88, 93],[89,91,80],[96,98,100],[73,66,70]], dtype=torch.float)\n",
    "y_train = torch.tensor([[152],[185],[180], [196],[142]], dtype=torch.float)\n",
    "x_train, y_train"
   ]
  },
  {
   "cell_type": "markdown",
   "id": "53641046-5a58-44ce-a572-51812aad68fb",
   "metadata": {},
   "source": [
    "### 2. Hypothesis\n",
    "$\\mathbf{y}=\\mathbf{W}\\mathbf{x}+\\mathbf{b}=w_1x_1+w_2x_2+w_3x_3+b$"
   ]
  },
  {
   "cell_type": "code",
   "execution_count": 27,
   "id": "df427917-6bf3-446b-aaba-bdbd9b5f67d9",
   "metadata": {},
   "outputs": [
    {
     "data": {
      "text/plain": [
       "(tensor([[0.],\n",
       "         [0.],\n",
       "         [0.]], requires_grad=True),\n",
       " tensor([0.], requires_grad=True))"
      ]
     },
     "execution_count": 27,
     "metadata": {},
     "output_type": "execute_result"
    }
   ],
   "source": [
    "W = torch.zeros((3, 1), requires_grad=True)\n",
    "b = torch.zeros(1, requires_grad=True)\n",
    "W, b"
   ]
  },
  {
   "cell_type": "code",
   "execution_count": 28,
   "id": "29527362-af7e-404e-a048-bfa55924d568",
   "metadata": {},
   "outputs": [
    {
     "data": {
      "text/plain": [
       "tensor([[0.],\n",
       "        [0.],\n",
       "        [0.],\n",
       "        [0.],\n",
       "        [0.]], grad_fn=<AddBackward0>)"
      ]
     },
     "execution_count": 28,
     "metadata": {},
     "output_type": "execute_result"
    }
   ],
   "source": [
    "hypothesis = x_train.matmul(W) + b\n",
    "hypothesis"
   ]
  },
  {
   "cell_type": "markdown",
   "id": "149e2b40-e9e4-44da-a166-fff522e54487",
   "metadata": {},
   "source": [
    "### 3. Loss(Cost) Function\n",
    "$\\frac{1}{m} \\sum_{i=1}^{m}(H(x^{(i)})- y^{(i)})^2$"
   ]
  },
  {
   "cell_type": "code",
   "execution_count": 29,
   "id": "0d1caf1a-90eb-4070-8682-33dfe5fbe31a",
   "metadata": {},
   "outputs": [
    {
     "data": {
      "text/plain": [
       "tensor(29241., grad_fn=<PowBackward0>)"
      ]
     },
     "execution_count": 29,
     "metadata": {},
     "output_type": "execute_result"
    }
   ],
   "source": [
    "cost = torch.mean(hypothesis - y_train)**2\n",
    "cost"
   ]
  },
  {
   "cell_type": "markdown",
   "id": "a3c2f602-c77e-4394-a9f4-0edbf373c95d",
   "metadata": {},
   "source": [
    "### 4. Gradient descent\n",
    "- optimizer\n",
    "- backward: gradient 계산\n",
    "- step(): update"
   ]
  },
  {
   "cell_type": "code",
   "execution_count": 30,
   "id": "93c5e069-0522-4bb1-a758-be81f676ded8",
   "metadata": {},
   "outputs": [],
   "source": [
    "optimizer = optim.SGD([W, b], lr=1e-5)"
   ]
  },
  {
   "cell_type": "code",
   "execution_count": 31,
   "id": "e97eed7b-328e-4f80-95e0-915055d51d44",
   "metadata": {},
   "outputs": [
    {
     "data": {
      "text/plain": [
       "(tensor([[0.2900],\n",
       "         [0.2893],\n",
       "         [0.2859]], requires_grad=True),\n",
       " tensor([0.0034], requires_grad=True))"
      ]
     },
     "execution_count": 31,
     "metadata": {},
     "output_type": "execute_result"
    }
   ],
   "source": [
    "optimizer.zero_grad()\n",
    "cost.backward()\n",
    "optimizer.step()\n",
    "W, b"
   ]
  },
  {
   "cell_type": "markdown",
   "id": "19638d67-c4cc-4afe-b91e-0032ab0b6b95",
   "metadata": {},
   "source": [
    "### Training"
   ]
  },
  {
   "cell_type": "code",
   "execution_count": 32,
   "id": "639df698-17d9-4650-9ce1-67e2d2de4330",
   "metadata": {},
   "outputs": [
    {
     "name": "stdout",
     "output_type": "stream",
     "text": [
      "Epoch: 1, Loss: 29661.80078125\n",
      "Epoch: 2, Loss: 9537.6943359375\n",
      "Epoch: 3, Loss: 3069.5908203125\n",
      "Epoch: 4, Loss: 990.6702880859375\n",
      "Epoch: 5, Loss: 322.4819641113281\n",
      "Epoch: 6, Loss: 107.7170639038086\n",
      "Epoch: 7, Loss: 38.687400817871094\n",
      "Epoch: 8, Loss: 16.499046325683594\n",
      "Epoch: 9, Loss: 9.365655899047852\n",
      "Epoch: 10, Loss: 7.071104526519775\n",
      "Epoch: 11, Loss: 6.331867218017578\n",
      "Epoch: 12, Loss: 6.092532157897949\n",
      "Epoch: 13, Loss: 6.013822555541992\n",
      "Epoch: 14, Loss: 5.986774921417236\n",
      "Epoch: 15, Loss: 5.976314067840576\n",
      "Epoch: 16, Loss: 5.971213340759277\n",
      "Epoch: 17, Loss: 5.96779727935791\n",
      "Epoch: 18, Loss: 5.96496057510376\n",
      "Epoch: 19, Loss: 5.962291717529297\n",
      "Epoch: 20, Loss: 5.95969295501709\n",
      "cost: tensor(5.9597, grad_fn=<MeanBackward0>)\n"
     ]
    },
    {
     "data": {
      "text/plain": [
       "(tensor([[0.6806],\n",
       "         [0.6785],\n",
       "         [0.6678]], requires_grad=True),\n",
       " tensor([0.0079], requires_grad=True))"
      ]
     },
     "execution_count": 32,
     "metadata": {},
     "output_type": "execute_result"
    }
   ],
   "source": [
    "# initialize parameter\n",
    "W = torch.zeros((3,1), requires_grad=True)\n",
    "b = torch.zeros(1, requires_grad=True)\n",
    "\n",
    "# hyperparameter\n",
    "learning_rate = 1e-5\n",
    "optimizer = optim.SGD([W, b], lr=learning_rate)\n",
    "\n",
    "epochs = 20\n",
    "for epoch in range(1, epochs+1):\n",
    "    hypothesis = x_train.matmul(W) + b\n",
    "    cost = torch.mean((hypothesis - y_train) ** 2)\n",
    "\n",
    "    optimizer.zero_grad()\n",
    "    cost.backward()\n",
    "    optimizer.step()\n",
    "\n",
    "\n",
    "    print(f'Epoch: {epoch}, Loss: {cost}')\n",
    "print('cost:', cost)\n",
    "W, b"
   ]
  },
  {
   "cell_type": "markdown",
   "id": "019cd294-f5ad-4020-8c4c-06df68b854e6",
   "metadata": {},
   "source": [
    "### Prediction"
   ]
  },
  {
   "cell_type": "code",
   "execution_count": 35,
   "id": "38fde75d-73d8-46ed-947e-8daced70fc80",
   "metadata": {},
   "outputs": [],
   "source": [
    "def predict(x, W=W, b=b):\n",
    "    return torch.tensor([x], dtype=torch.float).matmul(W) + b"
   ]
  },
  {
   "cell_type": "code",
   "execution_count": 36,
   "id": "f4a2b80c-e8f3-440e-9f0a-7259983f23e6",
   "metadata": {},
   "outputs": [
    {
     "data": {
      "text/plain": [
       "tensor([[162.1540]], grad_fn=<AddBackward0>)"
      ]
     },
     "execution_count": 36,
     "metadata": {},
     "output_type": "execute_result"
    }
   ],
   "source": [
    "predict([89, 69, 82])"
   ]
  },
  {
   "cell_type": "code",
   "execution_count": null,
   "id": "cb467c11-b9be-46f2-acd7-389811d5c678",
   "metadata": {},
   "outputs": [],
   "source": []
  }
 ],
 "metadata": {
  "kernelspec": {
   "display_name": "3.8",
   "language": "python",
   "name": "3.8"
  },
  "language_info": {
   "codemirror_mode": {
    "name": "ipython",
    "version": 3
   },
   "file_extension": ".py",
   "mimetype": "text/x-python",
   "name": "python",
   "nbconvert_exporter": "python",
   "pygments_lexer": "ipython3",
   "version": "3.8.10"
  }
 },
 "nbformat": 4,
 "nbformat_minor": 5
}
