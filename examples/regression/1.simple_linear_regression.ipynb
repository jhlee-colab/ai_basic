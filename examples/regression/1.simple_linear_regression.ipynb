{
 "cells": [
  {
   "cell_type": "code",
   "execution_count": 1,
   "id": "23366c92-4780-4e3b-8326-dfad5071143c",
   "metadata": {},
   "outputs": [],
   "source": [
    "import torch\n",
    "import torch.optim as optim"
   ]
  },
  {
   "cell_type": "markdown",
   "id": "3ea8621a-0641-4730-aedc-5c40f273e0de",
   "metadata": {},
   "source": [
    "### 1. Data Definition: vector\n",
    "$\\mathbf{X}_{train}=\\begin{pmatrix}1 \\\\ 2 \\\\ 3 \\end{pmatrix} \\ $\n",
    "$\\mathbf{Y}_{train}=\\begin{pmatrix}2 \\\\ 4 \\\\ 6 \\end{pmatrix}$"
   ]
  },
  {
   "cell_type": "code",
   "execution_count": 2,
   "id": "87cfdbfe-c3a9-4413-9adf-b59af4c0d3e7",
   "metadata": {},
   "outputs": [
    {
     "data": {
      "text/plain": [
       "(tensor([[1.],\n",
       "         [2.],\n",
       "         [3.]]),\n",
       " tensor([[2.],\n",
       "         [4.],\n",
       "         [6.]]))"
      ]
     },
     "execution_count": 2,
     "metadata": {},
     "output_type": "execute_result"
    }
   ],
   "source": [
    "x_train = torch.tensor([[1],[2],[3]], dtype=torch.float)\n",
    "y_train = torch.tensor([[2],[4],[6]], dtype=torch.float)\n",
    "x_train, y_train"
   ]
  },
  {
   "cell_type": "markdown",
   "id": "53641046-5a58-44ce-a572-51812aad68fb",
   "metadata": {},
   "source": [
    "### 2. Hypothesis\n",
    "$\\mathbf{y}=\\mathbf{W}\\mathbf{x}+\\mathbf{b}$"
   ]
  },
  {
   "cell_type": "code",
   "execution_count": 3,
   "id": "df427917-6bf3-446b-aaba-bdbd9b5f67d9",
   "metadata": {},
   "outputs": [
    {
     "data": {
      "text/plain": [
       "(tensor([0.], requires_grad=True), tensor([0.], requires_grad=True))"
      ]
     },
     "execution_count": 3,
     "metadata": {},
     "output_type": "execute_result"
    }
   ],
   "source": [
    "W = torch.zeros(1, requires_grad=True)\n",
    "b = torch.zeros(1, requires_grad=True)\n",
    "W, b"
   ]
  },
  {
   "cell_type": "code",
   "execution_count": 4,
   "id": "29527362-af7e-404e-a048-bfa55924d568",
   "metadata": {},
   "outputs": [
    {
     "data": {
      "text/plain": [
       "tensor([[0.],\n",
       "        [0.],\n",
       "        [0.]], grad_fn=<AddBackward0>)"
      ]
     },
     "execution_count": 4,
     "metadata": {},
     "output_type": "execute_result"
    }
   ],
   "source": [
    "hypothesis = x_train * W + b\n",
    "hypothesis"
   ]
  },
  {
   "cell_type": "markdown",
   "id": "149e2b40-e9e4-44da-a166-fff522e54487",
   "metadata": {},
   "source": [
    "### 3. Loss(Cost) Function\n",
    "$\\frac{1}{m} \\sum_{i=1}^{m}(H(x^{(i)})- y^{(i)})^2$"
   ]
  },
  {
   "cell_type": "code",
   "execution_count": 5,
   "id": "0d1caf1a-90eb-4070-8682-33dfe5fbe31a",
   "metadata": {},
   "outputs": [
    {
     "data": {
      "text/plain": [
       "tensor(16., grad_fn=<PowBackward0>)"
      ]
     },
     "execution_count": 5,
     "metadata": {},
     "output_type": "execute_result"
    }
   ],
   "source": [
    "cost = torch.mean(hypothesis - y_train)**2\n",
    "cost"
   ]
  },
  {
   "cell_type": "markdown",
   "id": "a3c2f602-c77e-4394-a9f4-0edbf373c95d",
   "metadata": {},
   "source": [
    "### 4. Gradient descent\n",
    "- optimizer\n",
    "- backward: gradient 계산\n",
    "- step(): update"
   ]
  },
  {
   "cell_type": "code",
   "execution_count": 6,
   "id": "93c5e069-0522-4bb1-a758-be81f676ded8",
   "metadata": {},
   "outputs": [],
   "source": [
    "optimizer = optim.SGD([W, b], lr=0.01)"
   ]
  },
  {
   "cell_type": "code",
   "execution_count": 7,
   "id": "e97eed7b-328e-4f80-95e0-915055d51d44",
   "metadata": {},
   "outputs": [
    {
     "data": {
      "text/plain": [
       "(tensor([0.1600], requires_grad=True), tensor([0.0800], requires_grad=True))"
      ]
     },
     "execution_count": 7,
     "metadata": {},
     "output_type": "execute_result"
    }
   ],
   "source": [
    "optimizer.zero_grad()\n",
    "cost.backward()\n",
    "optimizer.step()\n",
    "W, b"
   ]
  },
  {
   "cell_type": "markdown",
   "id": "19638d67-c4cc-4afe-b91e-0032ab0b6b95",
   "metadata": {},
   "source": [
    "### Training"
   ]
  },
  {
   "cell_type": "code",
   "execution_count": 20,
   "id": "639df698-17d9-4650-9ce1-67e2d2de4330",
   "metadata": {},
   "outputs": [
    {
     "name": "stdout",
     "output_type": "stream",
     "text": [
      "Epoch: 200, Loss: 0.029910147190093994\n",
      "Epoch: 400, Loss: 0.011421176604926586\n",
      "Epoch: 600, Loss: 0.004361126106232405\n",
      "Epoch: 800, Loss: 0.0016652889316901565\n",
      "Epoch: 1000, Loss: 0.0006358931423164904\n",
      "Epoch: 1200, Loss: 0.0002428154111839831\n",
      "Epoch: 1400, Loss: 9.271795715903863e-05\n",
      "Epoch: 1600, Loss: 3.540363104548305e-05\n",
      "Epoch: 1800, Loss: 1.3518902960640844e-05\n",
      "Epoch: 2000, Loss: 5.162579327588901e-06\n",
      "Epoch: 2200, Loss: 1.9716496808541706e-06\n",
      "Epoch: 2400, Loss: 7.533246275670535e-07\n",
      "Epoch: 2600, Loss: 2.8795551543225884e-07\n",
      "Epoch: 2800, Loss: 1.1012351563977063e-07\n",
      "Epoch: 3000, Loss: 4.219759830448311e-08\n",
      "Epoch: 3200, Loss: 1.6227582833039378e-08\n",
      "Epoch: 3400, Loss: 6.266361651796615e-09\n",
      "Epoch: 3600, Loss: 2.4041166835075956e-09\n",
      "Epoch: 3800, Loss: 9.151979729615789e-10\n",
      "Epoch: 4000, Loss: 3.440353280037556e-10\n",
      "Epoch: 4200, Loss: 1.4136958270682953e-10\n",
      "Epoch: 4400, Loss: 6.861000656499527e-11\n",
      "Epoch: 4600, Loss: 3.501554601825774e-11\n",
      "Epoch: 4800, Loss: 2.305947967295996e-11\n",
      "Epoch: 5000, Loss: 1.7678303265711293e-11\n",
      "cost: tensor(1.7678e-11, grad_fn=<MeanBackward0>)\n"
     ]
    },
    {
     "data": {
      "text/plain": [
       "(tensor([2.0000], requires_grad=True),\n",
       " tensor([1.0439e-05], requires_grad=True))"
      ]
     },
     "execution_count": 20,
     "metadata": {},
     "output_type": "execute_result"
    }
   ],
   "source": [
    "# initialize parameter\n",
    "W = torch.zeros(1, requires_grad=True)\n",
    "b = torch.zeros(1, requires_grad=True)\n",
    "\n",
    "# hyperparameter\n",
    "learning_rate = 0.01\n",
    "optimizer = optim.SGD([W, b], lr=learning_rate)\n",
    "\n",
    "epochs = 5000\n",
    "for epoch in range(1, epochs+1):\n",
    "    hypothesis = x_train * W + b\n",
    "    cost = torch.mean((hypothesis - y_train) ** 2)\n",
    "\n",
    "    optimizer.zero_grad()\n",
    "    cost.backward()\n",
    "    optimizer.step()\n",
    "\n",
    "    if epoch % 200 == 0:\n",
    "        print(f'Epoch: {epoch}, Loss: {cost}')\n",
    "print('cost:', cost)\n",
    "W, b"
   ]
  },
  {
   "cell_type": "markdown",
   "id": "019cd294-f5ad-4020-8c4c-06df68b854e6",
   "metadata": {},
   "source": [
    "### Prediction"
   ]
  },
  {
   "cell_type": "code",
   "execution_count": 21,
   "id": "38fde75d-73d8-46ed-947e-8daced70fc80",
   "metadata": {},
   "outputs": [],
   "source": [
    "def predict(x, W=W, b=b):\n",
    "    return torch.tensor([[x]], dtype=torch.float)*W + b"
   ]
  },
  {
   "cell_type": "code",
   "execution_count": 25,
   "id": "f4a2b80c-e8f3-440e-9f0a-7259983f23e6",
   "metadata": {},
   "outputs": [
    {
     "data": {
      "text/plain": [
       "tensor([[8.0000]], grad_fn=<AddBackward0>)"
      ]
     },
     "execution_count": 25,
     "metadata": {},
     "output_type": "execute_result"
    }
   ],
   "source": [
    "predict(4)"
   ]
  },
  {
   "cell_type": "code",
   "execution_count": null,
   "id": "cb467c11-b9be-46f2-acd7-389811d5c678",
   "metadata": {},
   "outputs": [],
   "source": []
  }
 ],
 "metadata": {
  "kernelspec": {
   "display_name": "3.8",
   "language": "python",
   "name": "3.8"
  },
  "language_info": {
   "codemirror_mode": {
    "name": "ipython",
    "version": 3
   },
   "file_extension": ".py",
   "mimetype": "text/x-python",
   "name": "python",
   "nbconvert_exporter": "python",
   "pygments_lexer": "ipython3",
   "version": "3.8.10"
  }
 },
 "nbformat": 4,
 "nbformat_minor": 5
}
