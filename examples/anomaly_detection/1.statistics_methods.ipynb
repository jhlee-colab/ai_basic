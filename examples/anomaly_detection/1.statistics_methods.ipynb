{
 "cells": [
  {
   "cell_type": "code",
   "execution_count": 1,
   "id": "d7d95c8a-5a9d-40b3-bf94-4965a94e0db2",
   "metadata": {},
   "outputs": [],
   "source": [
    "# -*- coding: utf-8 -*-\n",
    "import numpy as np\n",
    "from matplotlib import pyplot as plt"
   ]
  },
  {
   "cell_type": "markdown",
   "id": "4d1a4141-f783-417a-a8cc-9343a97f2fdc",
   "metadata": {},
   "source": [
    "## Z-Score\n",
    "- Strandard Score\n",
    "### $\\frac{\\mathbf{x}-\\bar x}{\\sigma}$\n",
    "- 이상탐지: threhold 보다 큰 값"
   ]
  },
  {
   "cell_type": "code",
   "execution_count": 2,
   "id": "35989032-934a-4042-95a0-5424f27a1d22",
   "metadata": {},
   "outputs": [
    {
     "data": {
      "text/plain": [
       "(array([10, 25, 30,  5, 15, 20, 40, 35]), array([45, 39, 80, 99]))"
      ]
     },
     "execution_count": 2,
     "metadata": {},
     "output_type": "execute_result"
    }
   ],
   "source": [
    "# 데이터 준비\n",
    "data = np.array([10, 25, 30, 5, 15, 20, 40, 35])\n",
    "test = np.array([45, 39, 80, 99])\n",
    "data, test"
   ]
  },
  {
   "cell_type": "code",
   "execution_count": 3,
   "id": "06da30b7-3ef2-4eef-a1e7-0d90d64e73d5",
   "metadata": {},
   "outputs": [
    {
     "data": {
      "text/plain": [
       "(22.5, 11.4564392373896)"
      ]
     },
     "execution_count": 3,
     "metadata": {},
     "output_type": "execute_result"
    }
   ],
   "source": [
    "# 평균 계산\n",
    "mean = np.mean(data)\n",
    "\n",
    "# 표준편차 계산\n",
    "std = np.std(data)\n",
    "\n",
    "mean, std"
   ]
  },
  {
   "cell_type": "code",
   "execution_count": 5,
   "id": "d742b0cb-6c86-43e0-9212-5956e247f1a4",
   "metadata": {},
   "outputs": [
    {
     "name": "stdout",
     "output_type": "stream",
     "text": [
      "평균: 22.5\n",
      "표준편차: 11.4564392373896\n",
      "Z-스코어: [-1.09108945  0.21821789  0.65465367 -1.52752523 -0.65465367 -0.21821789\n",
      "  1.52752523  1.09108945]\n",
      "Test Z-스코어: [1.96396101 1.44023808 5.01901148 6.67746744]\n",
      "이상값: []\n",
      "이상값: [80 99]\n"
     ]
    }
   ],
   "source": [
    "# Z-스코어 계산\n",
    "zscores = (data - mean) / std\n",
    "\n",
    "# 임계값 설정\n",
    "threshold = 3\n",
    "\n",
    "# 이상값 탐지\n",
    "anomalies = data[np.abs(zscores) > threshold]\n",
    "anomalies_test = test[np.abs((test-mean)/std) > threshold]\n",
    "\n",
    "# 결과 출력\n",
    "print(\"평균:\", mean)\n",
    "print(\"표준편차:\", std)\n",
    "print(\"Z-스코어:\", zscores)\n",
    "print(\"Test Z-스코어:\", (test-mean)/std)\n",
    "print(\"이상값:\", anomalies)\n",
    "print(\"이상값:\", anomalies_test)"
   ]
  },
  {
   "cell_type": "markdown",
   "id": "4a75c8d7-8adf-4582-855f-54c9e931e6d1",
   "metadata": {},
   "source": [
    "## IQR"
   ]
  },
  {
   "cell_type": "code",
   "execution_count": 6,
   "id": "7abf8f02-719f-4747-b6c7-69885d37f8cf",
   "metadata": {},
   "outputs": [],
   "source": [
    "# 데이터 준비\n",
    "data = np.array([10, 25, 30, 5, 15, 20, 40, 35, 28, 42, 18, 22])\n",
    "test = np.array([-10, 45, 39, 54, 59])"
   ]
  },
  {
   "cell_type": "code",
   "execution_count": 7,
   "id": "9fd8c5ad-ba48-48eb-95ac-544fb9efd235",
   "metadata": {},
   "outputs": [
    {
     "name": "stdout",
     "output_type": "stream",
     "text": [
      "1사분위수: 17.25\n",
      "3사분위수: 31.25\n",
      "IQR: 14.0\n",
      "이상값 범위: -3.75 ~ 52.25\n",
      "이상값: []\n",
      "이상값: [-10  54  59]\n"
     ]
    }
   ],
   "source": [
    "# 1사분위수 (Q1) 계산\n",
    "Q1 = np.percentile(data, 25)\n",
    "\n",
    "# 3사분위수 (Q3) 계산\n",
    "Q3 = np.percentile(data, 75)\n",
    "\n",
    "# IQR 계산\n",
    "IQR = Q3 - Q1\n",
    "\n",
    "# 이상값 범위 계산\n",
    "lower_bound = Q1 - 1.5 * IQR\n",
    "upper_bound = Q3 + 1.5 * IQR\n",
    "\n",
    "# 이상값 탐지\n",
    "anomalies = data[(data < lower_bound) | (data > upper_bound)]\n",
    "anomalies_test = test[(test < lower_bound) | (test > upper_bound)]\n",
    "\n",
    "# 결과 출력\n",
    "print(\"1사분위수:\", Q1)\n",
    "print(\"3사분위수:\", Q3)\n",
    "print(\"IQR:\", IQR)\n",
    "print(\"이상값 범위:\", lower_bound, \"~\", upper_bound)\n",
    "print(\"이상값:\", anomalies)\n",
    "print(\"이상값:\", anomalies_test)"
   ]
  },
  {
   "cell_type": "code",
   "execution_count": 8,
   "id": "53854c3e-e6cf-4869-bfc7-7bee76fc4911",
   "metadata": {},
   "outputs": [
    {
     "data": {
      "image/png": "[encoded data removed]",
      "text/plain": [
       "<Figure size 640x480 with 1 Axes>"
      ]
     },
     "metadata": {},
     "output_type": "display_data"
    }
   ],
   "source": [
    "# 박스 플롯 생성\n",
    "plt.boxplot(data, vert=False, patch_artist=True)\n",
    "\n",
    "# 이상값 표시\n",
    "for anomaly in anomalies_test:\n",
    "    plt.scatter(anomalies_test, [1 for _ in range(len(anomalies_test))], color='r', linestyle='dashed', linewidth=1)\n",
    "\n",
    "# 축 라벨 설정\n",
    "plt.xlabel('Values')\n",
    "plt.ylabel('Quentile')\n",
    "\n",
    "# 제목 설정\n",
    "plt.title('IQR based anomaly detection')\n",
    "\n",
    "# 그래프 출력\n",
    "plt.show()"
   ]
  },
  {
   "cell_type": "code",
   "execution_count": null,
   "id": "5c65b820-649f-45bc-9330-ee8c48ad187f",
   "metadata": {},
   "outputs": [],
   "source": [
    "\n"
   ]
  }
 ],
 "metadata": {
  "kernelspec": {
   "display_name": "3.9",
   "language": "python",
   "name": "3.9.2"
  },
  "language_info": {
   "codemirror_mode": {
    "name": "ipython",
    "version": 3
   },
   "file_extension": ".py",
   "mimetype": "text/x-python",
   "name": "python",
   "nbconvert_exporter": "python",
   "pygments_lexer": "ipython3",
   "version": "3.9.2"
  }
 },
 "nbformat": 4,
 "nbformat_minor": 5
}
