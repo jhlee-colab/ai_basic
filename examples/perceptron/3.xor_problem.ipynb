{
 "cells": [
  {
   "cell_type": "code",
   "execution_count": 1,
   "id": "ed7892b2-fb74-44e5-861e-1a41fd8247d7",
   "metadata": {},
   "outputs": [],
   "source": [
    "import torch\n",
    "from torch import nn"
   ]
  },
  {
   "cell_type": "code",
   "execution_count": 17,
   "id": "452d7fb1-192b-4c3a-80c8-2d8450994ad9",
   "metadata": {},
   "outputs": [],
   "source": [
    "X = torch.tensor([[0,0], [0,1], [1,0], [1,1]], dtype=torch.float)\n",
    "Y = torch.tensor([[0],[1],[1],[0]], dtype=torch.float)"
   ]
  },
  {
   "cell_type": "code",
   "execution_count": 18,
   "id": "b13fca40-04cd-469d-98bf-49525801212b",
   "metadata": {},
   "outputs": [],
   "source": [
    "linear = nn.Linear(2,1)\n",
    "sigmoid = nn.Sigmoid()"
   ]
  },
  {
   "cell_type": "code",
   "execution_count": 19,
   "id": "71bfc700-4cbc-493b-8469-b241d2830c70",
   "metadata": {},
   "outputs": [
    {
     "data": {
      "text/plain": [
       "Sequential(\n",
       "  (0): Linear(in_features=2, out_features=1, bias=True)\n",
       "  (1): Sigmoid()\n",
       ")"
      ]
     },
     "execution_count": 19,
     "metadata": {},
     "output_type": "execute_result"
    }
   ],
   "source": [
    "model = nn.Sequential(linear, sigmoid)\n",
    "model"
   ]
  },
  {
   "cell_type": "code",
   "execution_count": 20,
   "id": "ed56da81-6787-4ca2-bd9d-610c0a6d0391",
   "metadata": {},
   "outputs": [],
   "source": [
    "loss_fn = nn.BCELoss()\n",
    "optimizer = torch.optim.SGD(model.parameters(), lr=0.1)"
   ]
  },
  {
   "cell_type": "code",
   "execution_count": 21,
   "id": "ddec8047-6b65-43b2-b5d5-263d4c353376",
   "metadata": {},
   "outputs": [
    {
     "name": "stdout",
     "output_type": "stream",
     "text": [
      "Epoch: 100, Loss: 0.698178231716156\n",
      "Epoch: 200, Loss: 0.6954285502433777\n",
      "Epoch: 300, Loss: 0.6941826343536377\n",
      "Epoch: 400, Loss: 0.693617582321167\n",
      "Epoch: 500, Loss: 0.6933610439300537\n",
      "Epoch: 600, Loss: 0.6932445764541626\n",
      "Epoch: 700, Loss: 0.6931914687156677\n",
      "Epoch: 800, Loss: 0.6931672692298889\n",
      "Epoch: 900, Loss: 0.693156361579895\n",
      "Epoch: 1000, Loss: 0.6931514143943787\n",
      "Epoch: 1100, Loss: 0.6931490898132324\n",
      "Epoch: 1200, Loss: 0.6931480169296265\n",
      "Epoch: 1300, Loss: 0.6931475400924683\n",
      "Epoch: 1400, Loss: 0.6931473612785339\n",
      "Epoch: 1500, Loss: 0.6931473016738892\n",
      "Epoch: 1600, Loss: 0.6931472420692444\n",
      "Epoch: 1700, Loss: 0.6931473016738892\n",
      "Epoch: 1800, Loss: 0.6931471824645996\n",
      "Epoch: 1900, Loss: 0.6931471824645996\n",
      "Epoch: 2000, Loss: 0.6931471824645996\n",
      "Epoch: 2100, Loss: 0.6931471824645996\n",
      "Epoch: 2200, Loss: 0.6931471824645996\n",
      "Epoch: 2300, Loss: 0.6931471824645996\n",
      "Epoch: 2400, Loss: 0.6931471824645996\n",
      "Epoch: 2500, Loss: 0.6931471824645996\n",
      "Epoch: 2600, Loss: 0.6931472420692444\n",
      "Epoch: 2700, Loss: 0.6931471824645996\n",
      "Epoch: 2800, Loss: 0.6931471824645996\n",
      "Epoch: 2900, Loss: 0.6931471824645996\n",
      "Epoch: 3000, Loss: 0.6931471228599548\n",
      "Epoch: 3100, Loss: 0.6931471824645996\n",
      "Epoch: 3200, Loss: 0.6931471824645996\n",
      "Epoch: 3300, Loss: 0.6931471824645996\n",
      "Epoch: 3400, Loss: 0.6931471228599548\n",
      "Epoch: 3500, Loss: 0.6931471824645996\n",
      "Epoch: 3600, Loss: 0.6931471824645996\n",
      "Epoch: 3700, Loss: 0.6931471824645996\n",
      "Epoch: 3800, Loss: 0.6931471824645996\n",
      "Epoch: 3900, Loss: 0.6931471824645996\n",
      "Epoch: 4000, Loss: 0.6931471824645996\n",
      "Epoch: 4100, Loss: 0.6931471824645996\n",
      "Epoch: 4200, Loss: 0.6931471824645996\n",
      "Epoch: 4300, Loss: 0.6931471824645996\n",
      "Epoch: 4400, Loss: 0.6931471824645996\n",
      "Epoch: 4500, Loss: 0.6931471824645996\n",
      "Epoch: 4600, Loss: 0.6931471824645996\n",
      "Epoch: 4700, Loss: 0.6931471824645996\n",
      "Epoch: 4800, Loss: 0.6931471824645996\n",
      "Epoch: 4900, Loss: 0.6931471824645996\n",
      "Epoch: 5000, Loss: 0.6931471824645996\n",
      "Epoch: 5100, Loss: 0.6931471824645996\n",
      "Epoch: 5200, Loss: 0.6931471824645996\n",
      "Epoch: 5300, Loss: 0.6931471824645996\n",
      "Epoch: 5400, Loss: 0.6931471824645996\n",
      "Epoch: 5500, Loss: 0.6931471824645996\n",
      "Epoch: 5600, Loss: 0.6931471824645996\n",
      "Epoch: 5700, Loss: 0.6931471824645996\n",
      "Epoch: 5800, Loss: 0.6931471824645996\n",
      "Epoch: 5900, Loss: 0.6931471824645996\n",
      "Epoch: 6000, Loss: 0.6931471824645996\n",
      "Epoch: 6100, Loss: 0.6931471824645996\n",
      "Epoch: 6200, Loss: 0.6931471824645996\n",
      "Epoch: 6300, Loss: 0.6931471824645996\n",
      "Epoch: 6400, Loss: 0.6931471824645996\n",
      "Epoch: 6500, Loss: 0.6931471824645996\n",
      "Epoch: 6600, Loss: 0.6931471824645996\n",
      "Epoch: 6700, Loss: 0.6931471824645996\n",
      "Epoch: 6800, Loss: 0.6931471824645996\n",
      "Epoch: 6900, Loss: 0.6931471824645996\n",
      "Epoch: 7000, Loss: 0.6931471824645996\n",
      "Epoch: 7100, Loss: 0.6931471824645996\n",
      "Epoch: 7200, Loss: 0.6931471824645996\n",
      "Epoch: 7300, Loss: 0.6931471824645996\n",
      "Epoch: 7400, Loss: 0.6931471824645996\n",
      "Epoch: 7500, Loss: 0.6931471824645996\n",
      "Epoch: 7600, Loss: 0.6931471824645996\n",
      "Epoch: 7700, Loss: 0.6931471824645996\n",
      "Epoch: 7800, Loss: 0.6931471824645996\n",
      "Epoch: 7900, Loss: 0.6931471824645996\n",
      "Epoch: 8000, Loss: 0.6931471824645996\n",
      "Epoch: 8100, Loss: 0.6931471824645996\n",
      "Epoch: 8200, Loss: 0.6931471824645996\n",
      "Epoch: 8300, Loss: 0.6931471824645996\n",
      "Epoch: 8400, Loss: 0.6931471824645996\n",
      "Epoch: 8500, Loss: 0.6931471824645996\n",
      "Epoch: 8600, Loss: 0.6931471824645996\n",
      "Epoch: 8700, Loss: 0.6931471824645996\n",
      "Epoch: 8800, Loss: 0.6931471824645996\n",
      "Epoch: 8900, Loss: 0.6931471824645996\n",
      "Epoch: 9000, Loss: 0.6931471824645996\n",
      "Epoch: 9100, Loss: 0.6931471824645996\n",
      "Epoch: 9200, Loss: 0.6931471824645996\n",
      "Epoch: 9300, Loss: 0.6931471824645996\n",
      "Epoch: 9400, Loss: 0.6931471824645996\n",
      "Epoch: 9500, Loss: 0.6931471824645996\n",
      "Epoch: 9600, Loss: 0.6931471824645996\n",
      "Epoch: 9700, Loss: 0.6931471824645996\n",
      "Epoch: 9800, Loss: 0.6931471824645996\n",
      "Epoch: 9900, Loss: 0.6931471824645996\n",
      "Epoch: 10000, Loss: 0.6931471824645996\n"
     ]
    }
   ],
   "source": [
    "# training\n",
    "epochs = 10000\n",
    "for epoch in range(1, epochs+1):\n",
    "    optimizer.zero_grad()\n",
    "    hypothesis = model(X)\n",
    "    loss = loss_fn(hypothesis, Y)\n",
    "    loss.backward()\n",
    "    optimizer.step()\n",
    "\n",
    "    if epoch % 100 == 0:\n",
    "        print(f'Epoch: {epoch}, Loss: {loss.item()}')"
   ]
  },
  {
   "cell_type": "code",
   "execution_count": 14,
   "id": "3792a011-9c20-4cf3-9f35-2f20135487cd",
   "metadata": {},
   "outputs": [],
   "source": [
    "def predict(x, model=None):\n",
    "    if model:\n",
    "        return model(x).item()"
   ]
  },
  {
   "cell_type": "code",
   "execution_count": 22,
   "id": "24d1490c-8af9-401f-996f-2f0e627722e0",
   "metadata": {},
   "outputs": [
    {
     "name": "stdout",
     "output_type": "stream",
     "text": [
      "tensor([0., 0.]) 0.5\n",
      "tensor([0., 1.]) 0.5\n",
      "tensor([1., 0.]) 0.5\n",
      "tensor([1., 1.]) 0.5\n"
     ]
    }
   ],
   "source": [
    "for x in X:\n",
    "    print(x, predict(x, model=model))"
   ]
  },
  {
   "cell_type": "code",
   "execution_count": null,
   "id": "bab4c3a4-2b6a-4fe1-a001-ffc4bfe38a47",
   "metadata": {},
   "outputs": [],
   "source": []
  }
 ],
 "metadata": {
  "kernelspec": {
   "display_name": "3.8",
   "language": "python",
   "name": "3.8"
  },
  "language_info": {
   "codemirror_mode": {
    "name": "ipython",
    "version": 3
   },
   "file_extension": ".py",
   "mimetype": "text/x-python",
   "name": "python",
   "nbconvert_exporter": "python",
   "pygments_lexer": "ipython3",
   "version": "3.8.10"
  }
 },
 "nbformat": 4,
 "nbformat_minor": 5
}
