{
 "cells": [
  {
   "cell_type": "code",
   "execution_count": 1,
   "id": "dbfcb3f7-d2d3-4650-92ba-7adc2c47b743",
   "metadata": {},
   "outputs": [],
   "source": [
    "import torch\n",
    "from torch import nn"
   ]
  },
  {
   "cell_type": "code",
   "execution_count": 2,
   "id": "5bd97889-e0f8-4531-809a-d7903e8cc1b7",
   "metadata": {},
   "outputs": [],
   "source": [
    "# AND \n",
    "X = torch.tensor([[0,0], [0,1], [1,0], [1,1]], dtype=torch.float)\n",
    "y_and = torch.tensor([[0],[0],[0],[1]], dtype=torch.float)"
   ]
  },
  {
   "cell_type": "code",
   "execution_count": 3,
   "id": "3f5b5011-6abe-4a34-b62f-91fe8c257b18",
   "metadata": {},
   "outputs": [],
   "source": [
    "class AND(nn.Module):\n",
    "    def __init__(self):\n",
    "        super().__init__()\n",
    "        self.model = nn.Sequential(\n",
    "            nn.Linear(2, 1),\n",
    "            nn.Sigmoid()\n",
    "        )\n",
    "\n",
    "    def forward(self, x):\n",
    "        return self.model(x)"
   ]
  },
  {
   "cell_type": "code",
   "execution_count": 4,
   "id": "3ff86a16-bb41-4c9d-a06d-3a3e185fdd22",
   "metadata": {},
   "outputs": [
    {
     "data": {
      "text/plain": [
       "AND(\n",
       "  (model): Sequential(\n",
       "    (0): Linear(in_features=2, out_features=1, bias=True)\n",
       "    (1): Sigmoid()\n",
       "  )\n",
       ")"
      ]
     },
     "execution_count": 4,
     "metadata": {},
     "output_type": "execute_result"
    }
   ],
   "source": [
    "and_model = AND()\n",
    "and_model"
   ]
  },
  {
   "cell_type": "code",
   "execution_count": 14,
   "id": "9601c6be-b6c0-47ab-b24a-ad7249ddebd9",
   "metadata": {},
   "outputs": [],
   "source": [
    "def get_loss_fn(name):\n",
    "    if name.lower() == 'bce':\n",
    "        return nn.BCELoss()\n",
    "    if name.lower() == 'mse':\n",
    "        return nn.MSELoss()\n",
    "\n",
    "def get_optimizer(name):\n",
    "    if name.lower() == 'sgd':\n",
    "        return torch.optim.SGD\n",
    "    if name.lower() == 'adam':\n",
    "        return torch.optim.Adam\n",
    "\n",
    "def train(x, y, epochs=100, lr=1, loss='bce', optimizer='sgd', model=None):\n",
    "    if not model:\n",
    "        return\n",
    "\n",
    "    optimizer = get_optimizer(optimizer)(model.parameters(), lr=lr)\n",
    "    loss_fn = get_loss_fn(loss)\n",
    "\n",
    "    for epoch in range(epochs):\n",
    "        # grad 초기화\n",
    "        optimizer.zero_grad()\n",
    "\n",
    "        # forward\n",
    "        hypothesis = model(x)\n",
    "\n",
    "        # check loss \n",
    "        error = loss_fn(hypothesis, y)\n",
    "\n",
    "        # backward - backpropagation\n",
    "        error.backward()\n",
    "\n",
    "        # update parameters\n",
    "        optimizer.step()\n",
    "        \n",
    "        if epoch % 100 == 0:\n",
    "            print(f'Epoch: {epoch}, loss: {error.item()}')"
   ]
  },
  {
   "cell_type": "code",
   "execution_count": 15,
   "id": "3798592e-1d87-49c6-a39b-c5725b3d864c",
   "metadata": {},
   "outputs": [],
   "source": [
    "def predict(x, model=None):\n",
    "    if model:\n",
    "        return model(x).item()"
   ]
  },
  {
   "cell_type": "code",
   "execution_count": 16,
   "id": "5cf1eaac-0d37-4d08-8c75-93a0d8570719",
   "metadata": {},
   "outputs": [
    {
     "name": "stdout",
     "output_type": "stream",
     "text": [
      "Epoch: 0, loss: 0.0003647788835223764\n",
      "Epoch: 100, loss: 0.0003618058399297297\n",
      "Epoch: 200, loss: 0.0003588852705433965\n",
      "Epoch: 300, loss: 0.0003560142358765006\n",
      "Epoch: 400, loss: 0.0003531845868565142\n",
      "Epoch: 500, loss: 0.0003503971383906901\n",
      "Epoch: 600, loss: 0.00034765456803143024\n",
      "Epoch: 700, loss: 0.00034495495492592454\n",
      "Epoch: 800, loss: 0.0003422950394451618\n",
      "Epoch: 900, loss: 0.00033967511262744665\n"
     ]
    }
   ],
   "source": [
    "train(X, y_and, epochs=1000, loss='mse', model=and_model)"
   ]
  },
  {
   "cell_type": "code",
   "execution_count": 17,
   "id": "1b131e05-dbeb-41ac-89c9-6a03f6b925c9",
   "metadata": {},
   "outputs": [
    {
     "name": "stdout",
     "output_type": "stream",
     "text": [
      "tensor([0., 0.]) 9.957033398677595e-06\n",
      "tensor([0., 1.]) 0.019893981516361237\n",
      "tensor([1., 0.]) 0.019893962889909744\n",
      "tensor([1., 1.]) 0.9764025211334229\n"
     ]
    }
   ],
   "source": [
    "for x in X:\n",
    "    print(x, predict(x, model=and_model))"
   ]
  },
  {
   "cell_type": "code",
   "execution_count": 18,
   "id": "35213c1c-7af2-46d2-b4d3-d385eaec7417",
   "metadata": {},
   "outputs": [],
   "source": [
    "# OR\n",
    "y_or = torch.tensor([[0],[1],[1],[1]], dtype=torch.float)"
   ]
  },
  {
   "cell_type": "code",
   "execution_count": 19,
   "id": "bedcebf1-3502-49b7-8e5f-d0e78f605823",
   "metadata": {},
   "outputs": [
    {
     "data": {
      "text/plain": [
       "OR(\n",
       "  (model): Sequential(\n",
       "    (0): Linear(in_features=2, out_features=1, bias=True)\n",
       "    (1): Sigmoid()\n",
       "  )\n",
       ")"
      ]
     },
     "execution_count": 19,
     "metadata": {},
     "output_type": "execute_result"
    }
   ],
   "source": [
    "class OR(nn.Module):\n",
    "    def __init__(self):\n",
    "        super().__init__()\n",
    "        self.model = nn.Sequential(\n",
    "            nn.Linear(2, 1),\n",
    "            nn.Sigmoid()\n",
    "        )\n",
    "\n",
    "    def forward(self, x):\n",
    "        return self.model(x)\n",
    "        \n",
    "or_model = OR()\n",
    "or_model"
   ]
  },
  {
   "cell_type": "code",
   "execution_count": 21,
   "id": "c6388003-0b3c-4462-849d-1db7ea8bfb75",
   "metadata": {},
   "outputs": [
    {
     "name": "stdout",
     "output_type": "stream",
     "text": [
      "Epoch: 0, loss: 0.18817102909088135\n",
      "Epoch: 100, loss: 0.03419904783368111\n",
      "Epoch: 200, loss: 0.01719905063509941\n",
      "Epoch: 300, loss: 0.011048768647015095\n",
      "Epoch: 400, loss: 0.008011008612811565\n",
      "Epoch: 500, loss: 0.0062335398979485035\n",
      "Epoch: 600, loss: 0.00507810153067112\n",
      "Epoch: 700, loss: 0.00427148537710309\n",
      "Epoch: 800, loss: 0.0036786722484976053\n",
      "Epoch: 900, loss: 0.0032257779967039824\n"
     ]
    }
   ],
   "source": [
    "train(X, y_or, epochs=1000, loss='mse', model=or_model)"
   ]
  },
  {
   "cell_type": "code",
   "execution_count": 23,
   "id": "e073ebc0-aa13-4370-aad4-04d7c69ad10a",
   "metadata": {},
   "outputs": [
    {
     "name": "stdout",
     "output_type": "stream",
     "text": [
      "tensor([0., 0.]) 0.08052095025777817\n",
      "tensor([0., 1.]) 0.9500356912612915\n",
      "tensor([1., 0.]) 0.950034499168396\n",
      "tensor([1., 1.]) 0.9997578263282776\n"
     ]
    }
   ],
   "source": [
    "for x in X:\n",
    "    print(x, predict(x, model=or_model))"
   ]
  },
  {
   "cell_type": "code",
   "execution_count": 39,
   "id": "1f772242-34b0-495b-9ce0-89ee16f7f99f",
   "metadata": {},
   "outputs": [
    {
     "name": "stdout",
     "output_type": "stream",
     "text": [
      "1th layer - name: model.0.weight, parameter: Parameter containing:\n",
      "tensor([[5.3805, 5.3805]], requires_grad=True)\n",
      "1th layer - name: model.0.bias, parameter: Parameter containing:\n",
      "tensor([-2.4353], requires_grad=True)\n"
     ]
    }
   ],
   "source": [
    "for i, layer in enumerate(or_model.named_parameters()):\n",
    "    name, param = layer\n",
    "    print(f'{int(i/2)+1}th layer - name: {name}, parameter: {param}')"
   ]
  },
  {
   "cell_type": "code",
   "execution_count": null,
   "id": "6c293b13-99a0-42ba-bcec-e3b749ca682c",
   "metadata": {},
   "outputs": [],
   "source": []
  }
 ],
 "metadata": {
  "kernelspec": {
   "display_name": "3.9",
   "language": "python",
   "name": "3.9.2"
  },
  "language_info": {
   "codemirror_mode": {
    "name": "ipython",
    "version": 3
   },
   "file_extension": ".py",
   "mimetype": "text/x-python",
   "name": "python",
   "nbconvert_exporter": "python",
   "pygments_lexer": "ipython3",
   "version": "3.9.2"
  }
 },
 "nbformat": 4,
 "nbformat_minor": 5
}
