{
 "cells": [
  {
   "cell_type": "code",
   "execution_count": 1,
   "id": "4c3e13ff-ef1a-47ce-a0ce-e4fedc7ac161",
   "metadata": {},
   "outputs": [],
   "source": [
    "import torch\n",
    "import torch.nn as nn\n",
    "import torch.nn.functional as F\n",
    "import torch.optim as optim"
   ]
  },
  {
   "cell_type": "markdown",
   "id": "f9d1393c-a348-4772-b2f2-370979013059",
   "metadata": {},
   "source": [
    "### Hypothesis\n",
    "$H(X)=\\frac{1}{1+e^{XW}}$\n",
    "### Cost\n",
    "$cost(W)=-\\frac{1}{m}\\sum{y\\log{H(X)}+(1-y)\\log{(1-H(X))}}$"
   ]
  },
  {
   "cell_type": "code",
   "execution_count": 2,
   "id": "6b20e568-58f8-4ec4-9833-7cc09694f8ee",
   "metadata": {},
   "outputs": [
    {
     "data": {
      "text/plain": [
       "<torch._C.Generator at 0xffffae790b70>"
      ]
     },
     "execution_count": 2,
     "metadata": {},
     "output_type": "execute_result"
    }
   ],
   "source": [
    "torch.manual_seed(1)"
   ]
  },
  {
   "cell_type": "code",
   "execution_count": 3,
   "id": "faca668a-92d5-4da6-b96a-44308f0ff2ce",
   "metadata": {},
   "outputs": [
    {
     "data": {
      "text/plain": [
       "(tensor([[1., 2.],\n",
       "         [2., 3.],\n",
       "         [3., 1.],\n",
       "         [4., 3.],\n",
       "         [5., 3.],\n",
       "         [6., 2.]]),\n",
       " tensor([[0.],\n",
       "         [0.],\n",
       "         [0.],\n",
       "         [1.],\n",
       "         [1.],\n",
       "         [1.]]))"
      ]
     },
     "execution_count": 3,
     "metadata": {},
     "output_type": "execute_result"
    }
   ],
   "source": [
    "# data \n",
    "x_data = torch.tensor([[1, 2],\n",
    "          [2, 3],\n",
    "          [3, 1],\n",
    "          [4, 3],\n",
    "          [5, 3],\n",
    "          [6, 2]],dtype=torch.float)\n",
    "y_data = torch.tensor([[0],\n",
    "          [0],\n",
    "          [0],\n",
    "          [1],\n",
    "          [1],\n",
    "          [1]], dtype=torch.float)\n",
    "x_data, y_data"
   ]
  },
  {
   "cell_type": "code",
   "execution_count": 4,
   "id": "4fa5bdf5-7f1e-4901-9c74-bdc607bac61f",
   "metadata": {},
   "outputs": [],
   "source": [
    "# parameters: weight and bias\n",
    "W = torch.zeros(2,1)\n",
    "b = torch.zeros(1)"
   ]
  },
  {
   "cell_type": "code",
   "execution_count": 5,
   "id": "f2a18609-ca76-4491-a520-0e028c3d8e31",
   "metadata": {},
   "outputs": [
    {
     "data": {
      "text/plain": [
       "tensor([[0.5000],\n",
       "        [0.5000],\n",
       "        [0.5000],\n",
       "        [0.5000],\n",
       "        [0.5000],\n",
       "        [0.5000]])"
      ]
     },
     "execution_count": 5,
     "metadata": {},
     "output_type": "execute_result"
    }
   ],
   "source": [
    "# hypothesis: softmax(sigmoid)\n",
    "hypothesis = 1 / (1 + torch.exp(-(x_data@W+b)))\n",
    "hypothesis"
   ]
  },
  {
   "cell_type": "code",
   "execution_count": 6,
   "id": "8d2f9a0d-19b3-4f7a-a478-170d0494662c",
   "metadata": {},
   "outputs": [
    {
     "data": {
      "text/plain": [
       "tensor([[0.5000],\n",
       "        [0.5000],\n",
       "        [0.5000],\n",
       "        [0.5000],\n",
       "        [0.5000],\n",
       "        [0.5000]])"
      ]
     },
     "execution_count": 6,
     "metadata": {},
     "output_type": "execute_result"
    }
   ],
   "source": [
    "# sigmoid function\n",
    "hypothesis = torch.sigmoid(-(x_data@W+b))\n",
    "hypothesis"
   ]
  },
  {
   "cell_type": "code",
   "execution_count": 7,
   "id": "ddeeb358-3877-4f99-9405-88f7e514026d",
   "metadata": {},
   "outputs": [
    {
     "data": {
      "text/plain": [
       "tensor([[0.6931],\n",
       "        [0.6931],\n",
       "        [0.6931],\n",
       "        [0.6931],\n",
       "        [0.6931],\n",
       "        [0.6931]])"
      ]
     },
     "execution_count": 7,
     "metadata": {},
     "output_type": "execute_result"
    }
   ],
   "source": [
    "# loss function: binary cross entropy\n",
    "cost = -(y_data * torch.log(hypothesis) + (1-y_data)*torch.log(1-hypothesis))\n",
    "cost"
   ]
  },
  {
   "cell_type": "code",
   "execution_count": 8,
   "id": "fff3b0b8-a3e0-4b57-9e2f-c170d417d565",
   "metadata": {},
   "outputs": [
    {
     "data": {
      "text/plain": [
       "tensor(0.6931)"
      ]
     },
     "execution_count": 8,
     "metadata": {},
     "output_type": "execute_result"
    }
   ],
   "source": [
    "cost = -(y_data * torch.log(hypothesis) + (1-y_data)*torch.log(1-hypothesis)).mean()\n",
    "cost"
   ]
  },
  {
   "cell_type": "code",
   "execution_count": 9,
   "id": "502b478b-060b-4162-aeae-5793b907e7b5",
   "metadata": {},
   "outputs": [
    {
     "data": {
      "text/plain": [
       "tensor(0.6931)"
      ]
     },
     "execution_count": 9,
     "metadata": {},
     "output_type": "execute_result"
    }
   ],
   "source": [
    "# binary cross entropy function\n",
    "F.binary_cross_entropy(hypothesis, y_data)"
   ]
  },
  {
   "cell_type": "code",
   "execution_count": 10,
   "id": "838bdf39-20ca-4f7f-9af0-b1d919549f8f",
   "metadata": {},
   "outputs": [
    {
     "data": {
      "text/plain": [
       "tensor(0.6931)"
      ]
     },
     "execution_count": 10,
     "metadata": {},
     "output_type": "execute_result"
    }
   ],
   "source": [
    "nn.BCELoss()(hypothesis, y_data)"
   ]
  },
  {
   "cell_type": "code",
   "execution_count": 11,
   "id": "38960c3a-8a54-4cf3-81af-1ab6af7ca33c",
   "metadata": {},
   "outputs": [
    {
     "name": "stdout",
     "output_type": "stream",
     "text": [
      "Epoch    0/1000 Cost: 0.693147\n",
      "Epoch  100/1000 Cost: 0.134722\n",
      "Epoch  200/1000 Cost: 0.080643\n",
      "Epoch  300/1000 Cost: 0.057900\n",
      "Epoch  400/1000 Cost: 0.045300\n",
      "Epoch  500/1000 Cost: 0.037261\n",
      "Epoch  600/1000 Cost: 0.031673\n",
      "Epoch  700/1000 Cost: 0.027556\n",
      "Epoch  800/1000 Cost: 0.024394\n",
      "Epoch  900/1000 Cost: 0.021888\n",
      "Epoch 1000/1000 Cost: 0.019852\n"
     ]
    }
   ],
   "source": [
    "# training model\n",
    "W = torch.zeros((2, 1), requires_grad=True)\n",
    "b = torch.zeros(1, requires_grad=True)\n",
    "# optimizer 설정\n",
    "optimizer = optim.SGD([W, b], lr=1)\n",
    "\n",
    "nb_epochs = 1000\n",
    "for epoch in range(nb_epochs + 1):\n",
    "\n",
    "    # Cost 계산\n",
    "    hypothesis = torch.sigmoid(x_data.matmul(W) + b) # or .mm or @\n",
    "    cost = -(y_data * torch.log(hypothesis) + \n",
    "             (1 - y_data) * torch.log(1 - hypothesis)).mean()\n",
    "\n",
    "    # cost로 H(x) 개선\n",
    "    optimizer.zero_grad()\n",
    "    cost.backward()\n",
    "    optimizer.step()\n",
    "\n",
    "    # 100번마다 로그 출력\n",
    "    if epoch % 100 == 0:\n",
    "        print('Epoch {:4d}/{} Cost: {:.6f}'.format(\n",
    "            epoch, nb_epochs, cost.item()\n",
    "        ))"
   ]
  },
  {
   "cell_type": "code",
   "execution_count": 20,
   "id": "c173ab7d-79b3-4b4d-acaf-77b914c2c99b",
   "metadata": {},
   "outputs": [
    {
     "data": {
      "text/plain": [
       "tensor([[2.7648e-04],\n",
       "        [3.1608e-02],\n",
       "        [3.8977e-02],\n",
       "        [9.5622e-01],\n",
       "        [9.9823e-01],\n",
       "        [9.9969e-01]], grad_fn=<SigmoidBackward0>)"
      ]
     },
     "execution_count": 20,
     "metadata": {},
     "output_type": "execute_result"
    }
   ],
   "source": [
    "# check result\n",
    "torch.sigmoid(x_data.matmul(W) + b)"
   ]
  },
  {
   "cell_type": "code",
   "execution_count": 18,
   "id": "4b59e160-1908-4372-9b02-661e656a0348",
   "metadata": {},
   "outputs": [
    {
     "data": {
      "text/plain": [
       "tensor([[0],\n",
       "        [0],\n",
       "        [0],\n",
       "        [1],\n",
       "        [1],\n",
       "        [1]])"
      ]
     },
     "execution_count": 18,
     "metadata": {},
     "output_type": "execute_result"
    }
   ],
   "source": [
    "torch.where(torch.sigmoid(x_data.matmul(W) + b) > 0.5, 1, 0)"
   ]
  },
  {
   "cell_type": "code",
   "execution_count": 19,
   "id": "f45e3805-ad7b-463d-9ef1-086cd0e0324f",
   "metadata": {},
   "outputs": [
    {
     "data": {
      "text/plain": [
       "tensor([6])"
      ]
     },
     "execution_count": 19,
     "metadata": {},
     "output_type": "execute_result"
    }
   ],
   "source": [
    "sum(torch.where(torch.sigmoid(x_data.matmul(W) + b) > 0.5, 1, 0) == y_data)"
   ]
  },
  {
   "cell_type": "code",
   "execution_count": 21,
   "id": "5f41b1f2-5432-4513-bc1a-195bd0ae2e19",
   "metadata": {},
   "outputs": [],
   "source": [
    "# Example: diabetes dataset\n",
    "from sklearn.datasets import load_diabetes\n",
    "dataset = load_diabetes()\n",
    "x_diabetes = torch.tensor(dataset.data, dtype=torch.float)\n",
    "y_diabetes = torch.tensor(dataset.target, dtype=torch.float).view(-1,1)\n",
    "y_diabetes = torch.where(y_diabetes > 180, 1., 0.)"
   ]
  },
  {
   "cell_type": "code",
   "execution_count": 22,
   "id": "bbdd4b05-c3ed-4056-a773-b6f40596bd7f",
   "metadata": {},
   "outputs": [
    {
     "data": {
      "text/plain": [
       "(torch.Size([442, 10]), torch.Size([442, 1]))"
      ]
     },
     "execution_count": 22,
     "metadata": {},
     "output_type": "execute_result"
    }
   ],
   "source": [
    "x_diabetes.shape, y_diabetes.shape"
   ]
  },
  {
   "cell_type": "code",
   "execution_count": 23,
   "id": "d1783246-cf50-4a65-8af1-e82f6de2ba67",
   "metadata": {},
   "outputs": [
    {
     "name": "stdout",
     "output_type": "stream",
     "text": [
      "Epoch    0/1000 Cost: 0.693147\n",
      "Epoch  100/1000 Cost: 0.604198\n",
      "Epoch  200/1000 Cost: 0.574378\n",
      "Epoch  300/1000 Cost: 0.552757\n",
      "Epoch  400/1000 Cost: 0.536597\n",
      "Epoch  500/1000 Cost: 0.524155\n",
      "Epoch  600/1000 Cost: 0.514313\n",
      "Epoch  700/1000 Cost: 0.506335\n",
      "Epoch  800/1000 Cost: 0.499732\n",
      "Epoch  900/1000 Cost: 0.494167\n",
      "Epoch 1000/1000 Cost: 0.489404\n"
     ]
    }
   ],
   "source": [
    "# training model\n",
    "W = torch.zeros((10, 1), requires_grad=True)\n",
    "b = torch.zeros(1, requires_grad=True)\n",
    "\n",
    "# optimizer 설정\n",
    "optimizer = optim.SGD([W, b], lr=1)\n",
    "\n",
    "# training\n",
    "nb_epochs = 1000\n",
    "for epoch in range(nb_epochs + 1):\n",
    "\n",
    "    # Cost 계산\n",
    "    hypothesis = torch.sigmoid(x_diabetes @ W + b) # or .mm or @\n",
    "    cost = nn.BCELoss()(hypothesis, y_diabetes)\n",
    "\n",
    "    # cost로 H(x) 개선\n",
    "    optimizer.zero_grad()\n",
    "    cost.backward()\n",
    "    optimizer.step()\n",
    "\n",
    "    # 100번마다 로그 출력\n",
    "    if epoch % 100 == 0:\n",
    "        print('Epoch {:4d}/{} Cost: {:.6f}'.format(\n",
    "            epoch, nb_epochs, cost.item()\n",
    "        ))"
   ]
  },
  {
   "cell_type": "code",
   "execution_count": 27,
   "id": "5304c2f4-0291-4eb2-bfac-180e6f864f3e",
   "metadata": {},
   "outputs": [
    {
     "data": {
      "text/plain": [
       "tensor([[0.],\n",
       "        [0.],\n",
       "        [0.],\n",
       "        [0.],\n",
       "        [0.]])"
      ]
     },
     "execution_count": 27,
     "metadata": {},
     "output_type": "execute_result"
    }
   ],
   "source": [
    "# check result\n",
    "prediction = torch.tensor([[1.] if h >= torch.tensor([0.5]) else [0.] for h in hypothesis])\n",
    "prediction[:5]"
   ]
  },
  {
   "cell_type": "code",
   "execution_count": 28,
   "id": "aa66ca3b-15ae-438d-8aac-5c6f2e81a98c",
   "metadata": {},
   "outputs": [
    {
     "data": {
      "text/plain": [
       "tensor([[0.],\n",
       "        [0.],\n",
       "        [0.],\n",
       "        [1.],\n",
       "        [0.]])"
      ]
     },
     "execution_count": 28,
     "metadata": {},
     "output_type": "execute_result"
    }
   ],
   "source": [
    "y_diabetes[:5]"
   ]
  },
  {
   "cell_type": "code",
   "execution_count": 31,
   "id": "935335f5-b456-4bea-b425-9d18eb968747",
   "metadata": {},
   "outputs": [
    {
     "data": {
      "text/plain": [
       "tensor([0.8000])"
      ]
     },
     "execution_count": 31,
     "metadata": {},
     "output_type": "execute_result"
    }
   ],
   "source": [
    "sum(prediction[:5] == y_diabetes[:5])/5"
   ]
  },
  {
   "cell_type": "code",
   "execution_count": 35,
   "id": "3408f00b-f838-48b1-983f-34306655ea2e",
   "metadata": {},
   "outputs": [],
   "source": [
    "# binary classifier Class\n",
    "class BinaryClassifier(nn.Module):\n",
    "    def __init__(self):\n",
    "        super().__init__()\n",
    "        self.net = nn.Sequential(\n",
    "            nn.Linear(10, 1),\n",
    "            nn.Sigmoid()\n",
    "        )\n",
    "\n",
    "    def forward(self, x):\n",
    "        return self.net(x)\n",
    "\n",
    "    def fit(self, X, y, epochs=1000, lr=0.01, optimizer='SGD', loss='BCELoss', print_every=100):\n",
    "        # optimizer\n",
    "        optimizer = getattr(optim, optimizer)(self.net.parameters(), lr=lr)\n",
    "\n",
    "        # loss function\n",
    "        loss_fn = getattr(nn, loss)()\n",
    "\n",
    "        # training\n",
    "        for epoch in range(1, epochs+1):\n",
    "            # forward\n",
    "            hypothesis = self.net(X)\n",
    "            cost = loss_fn(hypothesis, y)\n",
    "\n",
    "            # backward\n",
    "            optimizer.zero_grad()\n",
    "            cost.backward()\n",
    "            optimizer.step()\n",
    "\n",
    "            # print\n",
    "            if epoch % print_every == 0:\n",
    "                print(f'Epoch: {epoch}, Loss: {cost.item():.5f}')\n",
    "\n",
    "    def predict(self, x):\n",
    "        return torch.where(self.net(x) >= 0.5, 1., 0.).view(-1, 1)"
   ]
  },
  {
   "cell_type": "code",
   "execution_count": 49,
   "id": "cc9f731f-e987-43c8-badd-b842e8caf550",
   "metadata": {},
   "outputs": [
    {
     "data": {
      "text/plain": [
       "BinaryClassifier(\n",
       "  (net): Sequential(\n",
       "    (0): Linear(in_features=10, out_features=1, bias=True)\n",
       "    (1): Sigmoid()\n",
       "  )\n",
       ")"
      ]
     },
     "execution_count": 49,
     "metadata": {},
     "output_type": "execute_result"
    }
   ],
   "source": [
    "model = BinaryClassifier()\n",
    "model"
   ]
  },
  {
   "cell_type": "code",
   "execution_count": 50,
   "id": "1a91aeff-f1a9-4a73-ace0-b181919a63bd",
   "metadata": {},
   "outputs": [
    {
     "name": "stdout",
     "output_type": "stream",
     "text": [
      "Epoch: 500, Loss: 0.64882\n",
      "Epoch: 1000, Loss: 0.60129\n",
      "Epoch: 1500, Loss: 0.57702\n",
      "Epoch: 2000, Loss: 0.56041\n",
      "Epoch: 2500, Loss: 0.54690\n",
      "Epoch: 3000, Loss: 0.53530\n",
      "Epoch: 3500, Loss: 0.52505\n",
      "Epoch: 4000, Loss: 0.51586\n",
      "Epoch: 4500, Loss: 0.50757\n",
      "Epoch: 5000, Loss: 0.50010\n"
     ]
    }
   ],
   "source": [
    "model.fit(x_diabetes, y_diabetes, lr=0.001, epochs=5000, optimizer='Adam', print_every=500)"
   ]
  },
  {
   "cell_type": "code",
   "execution_count": 53,
   "id": "276b08a4-8069-455b-9db1-e3b6a82a9fac",
   "metadata": {},
   "outputs": [
    {
     "data": {
      "text/plain": [
       "tensor([[ True],\n",
       "        [ True],\n",
       "        [ True],\n",
       "        [False],\n",
       "        [ True]])"
      ]
     },
     "execution_count": 53,
     "metadata": {},
     "output_type": "execute_result"
    }
   ],
   "source": [
    "model.predict(x_diabetes[:5]) == y_diabetes[:5]"
   ]
  },
  {
   "cell_type": "code",
   "execution_count": null,
   "id": "9fb6a677-6114-41b6-8ab2-977e3edc9d5b",
   "metadata": {},
   "outputs": [],
   "source": []
  }
 ],
 "metadata": {
  "kernelspec": {
   "display_name": "3.9",
   "language": "python",
   "name": "3.9.2"
  },
  "language_info": {
   "codemirror_mode": {
    "name": "ipython",
    "version": 3
   },
   "file_extension": ".py",
   "mimetype": "text/x-python",
   "name": "python",
   "nbconvert_exporter": "python",
   "pygments_lexer": "ipython3",
   "version": "3.9.2"
  }
 },
 "nbformat": 4,
 "nbformat_minor": 5
}
