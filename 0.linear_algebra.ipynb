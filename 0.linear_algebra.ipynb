{
 "cells": [
  {
   "cell_type": "code",
   "execution_count": 1,
   "id": "a6973518-2d83-4c4b-b762-1cbc8c414483",
   "metadata": {},
   "outputs": [],
   "source": [
    "import torch"
   ]
  },
  {
   "cell_type": "markdown",
   "id": "dd2dc2eb-ab0f-44f0-96a5-6e6586783397",
   "metadata": {},
   "source": [
    "### Scalar\n",
    "- $a,\\ x,\\ n$"
   ]
  },
  {
   "cell_type": "code",
   "execution_count": 2,
   "id": "472c9269-dcaa-4251-be06-57747d0767ba",
   "metadata": {},
   "outputs": [
    {
     "data": {
      "text/plain": [
       "3.0"
      ]
     },
     "execution_count": 2,
     "metadata": {},
     "output_type": "execute_result"
    }
   ],
   "source": [
    "a = torch.tensor(3.)\n",
    "a.item()"
   ]
  },
  {
   "cell_type": "markdown",
   "id": "791679b1-6f5d-45df-9d47-fcc95d0a96f0",
   "metadata": {},
   "source": [
    "### Vector\n",
    "- $\\mathbf{x} \\in \\mathbb{R}^n$"
   ]
  },
  {
   "cell_type": "code",
   "execution_count": 3,
   "id": "2f07c1d4-a5ab-4eda-9fef-886bd8f36fef",
   "metadata": {},
   "outputs": [
    {
     "name": "stdout",
     "output_type": "stream",
     "text": [
      "a Tensor with 10 elements cannot be converted to Scalar\n"
     ]
    },
    {
     "data": {
      "text/plain": [
       "array([0.87351483, 0.6533914 , 0.5221987 , 0.1468687 , 0.09732419,\n",
       "       0.76908386, 0.86155427, 0.81536204, 0.08053774, 0.4656167 ],\n",
       "      dtype=float32)"
      ]
     },
     "execution_count": 3,
     "metadata": {},
     "output_type": "execute_result"
    }
   ],
   "source": [
    "x = torch.rand(10)\n",
    "try:\n",
    "    x.item()\n",
    "except Exception as err:\n",
    "    print(err)\n",
    "\n",
    "x.numpy()"
   ]
  },
  {
   "cell_type": "code",
   "execution_count": 4,
   "id": "a589053c-3405-42ea-a202-dc8496f0ea7a",
   "metadata": {},
   "outputs": [
    {
     "data": {
      "text/plain": [
       "tensor([0.8550, 0.4277, 0.1078, 0.8142, 0.5627, 0.7406, 0.8808, 0.7990, 0.3557,\n",
       "        0.8215])"
      ]
     },
     "execution_count": 4,
     "metadata": {},
     "output_type": "execute_result"
    }
   ],
   "source": [
    "y = torch.rand(10)\n",
    "y"
   ]
  },
  {
   "cell_type": "code",
   "execution_count": 5,
   "id": "d33c4c88-1ecd-4c23-a4aa-8c5f3f885ab2",
   "metadata": {},
   "outputs": [
    {
     "data": {
      "text/plain": [
       "tensor(3.6480)"
      ]
     },
     "execution_count": 5,
     "metadata": {},
     "output_type": "execute_result"
    }
   ],
   "source": [
    "torch.matmul(x, y)"
   ]
  },
  {
   "cell_type": "markdown",
   "id": "3fda622c-760c-4116-908b-e169a75da5e5",
   "metadata": {},
   "source": [
    "### Matrix\n",
    "- $\\mathbf{A} \\in \\mathbb{R}^{m\\times n}$"
   ]
  },
  {
   "cell_type": "code",
   "execution_count": 6,
   "id": "85b05a77-ac02-4e69-a2ea-457c90345904",
   "metadata": {},
   "outputs": [
    {
     "data": {
      "text/plain": [
       "tensor([[0.7851, 0.4725],\n",
       "        [0.7211, 0.6927],\n",
       "        [0.1305, 0.5888]])"
      ]
     },
     "execution_count": 6,
     "metadata": {},
     "output_type": "execute_result"
    }
   ],
   "source": [
    "A = torch.rand((3,2))\n",
    "A"
   ]
  },
  {
   "cell_type": "code",
   "execution_count": 7,
   "id": "9e3df988-df35-4b47-a347-ff5257e274c9",
   "metadata": {},
   "outputs": [
    {
     "name": "stdout",
     "output_type": "stream",
     "text": [
      "dimentional: torch.Size([3, 2]), (row x column): (3 x 2)\n"
     ]
    }
   ],
   "source": [
    "print(f'dimentional: {A.shape}, (row x column): ({A.shape[0]} x {A.shape[1]})')"
   ]
  },
  {
   "cell_type": "code",
   "execution_count": 8,
   "id": "7b5763d2-a5e0-47bd-88ce-61647ad2772c",
   "metadata": {},
   "outputs": [
    {
     "name": "stdout",
     "output_type": "stream",
     "text": [
      "A[0, 0]: 0.7851\n",
      "A[0, 1]: 0.4725\n",
      "A[1, 0]: 0.7211\n",
      "A[1, 1]: 0.6927\n",
      "A[2, 0]: 0.1305\n",
      "A[2, 1]: 0.5888\n"
     ]
    }
   ],
   "source": [
    "for i in range(3):\n",
    "    for j in range(2):\n",
    "        print(f'A[{i}, {j}]: {A[i, j]:.4f}')"
   ]
  },
  {
   "cell_type": "markdown",
   "id": "19f1440f-bca3-4925-b556-62c925f25cb6",
   "metadata": {},
   "source": [
    "### Matrix Transpose\n",
    "- $(\\mathbf{A}^T)_{i,j}=\\mathbf{A}_{j,i}$\n",
    "- $(\\mathbf{A}\\mathbf{B})^T=\\mathbf{B}^T\\mathbf{A}^T$"
   ]
  },
  {
   "cell_type": "code",
   "execution_count": 9,
   "id": "1bc0c745-6480-4dcf-8aa3-fa156455c9b8",
   "metadata": {},
   "outputs": [
    {
     "data": {
      "text/plain": [
       "tensor([[0.7851, 0.7211, 0.1305],\n",
       "        [0.4725, 0.6927, 0.5888]])"
      ]
     },
     "execution_count": 9,
     "metadata": {},
     "output_type": "execute_result"
    }
   ],
   "source": [
    "AT = A.T\n",
    "AT"
   ]
  },
  {
   "cell_type": "code",
   "execution_count": 10,
   "id": "50989730-5d77-48ba-841a-4599591c6e7f",
   "metadata": {},
   "outputs": [
    {
     "name": "stdout",
     "output_type": "stream",
     "text": [
      "dimentional: torch.Size([2, 3]), (row x column): (2 x 3)\n"
     ]
    }
   ],
   "source": [
    "print(f'dimentional: {AT.shape}, (row x column): ({AT.shape[0]} x {AT.shape[1]})')"
   ]
  },
  {
   "cell_type": "code",
   "execution_count": 11,
   "id": "af78103f-d0c5-4d6d-923b-5b11bb9a7100",
   "metadata": {},
   "outputs": [
    {
     "name": "stdout",
     "output_type": "stream",
     "text": [
      "AT[i, j]: 0.7851, A[j, i]: 0.7851\n",
      "AT[i, j]: 0.7211, A[j, i]: 0.7211\n",
      "AT[i, j]: 0.1305, A[j, i]: 0.1305\n",
      "AT[i, j]: 0.4725, A[j, i]: 0.4725\n",
      "AT[i, j]: 0.6927, A[j, i]: 0.6927\n",
      "AT[i, j]: 0.5888, A[j, i]: 0.5888\n"
     ]
    }
   ],
   "source": [
    "for i in range(2):\n",
    "    for j in range(3):\n",
    "        print(f'AT[i, j]: {AT[i,j]:.4f}, A[j, i]: {A[j,i]:.4f}')"
   ]
  },
  {
   "cell_type": "code",
   "execution_count": 12,
   "id": "a823100f-d2c9-4f01-85c9-b8c6839ff8da",
   "metadata": {},
   "outputs": [
    {
     "data": {
      "text/plain": [
       "tensor([[0.0015, 0.0442, 0.5163],\n",
       "        [0.6601, 0.8956, 0.3602]])"
      ]
     },
     "execution_count": 12,
     "metadata": {},
     "output_type": "execute_result"
    }
   ],
   "source": [
    "B = torch.rand((2,3))\n",
    "B"
   ]
  },
  {
   "cell_type": "code",
   "execution_count": 13,
   "id": "1f3c50e4-601c-4630-b20a-af03c6194426",
   "metadata": {},
   "outputs": [],
   "source": [
    "ABT = torch.matmul(A, B).T\n",
    "BT_AT = torch.matmul(B.T,A.T)"
   ]
  },
  {
   "cell_type": "code",
   "execution_count": 14,
   "id": "1e50793c-c549-4d95-8395-de30ab009f06",
   "metadata": {},
   "outputs": [
    {
     "data": {
      "text/plain": [
       "tensor([[True, True, True],\n",
       "        [True, True, True],\n",
       "        [True, True, True]])"
      ]
     },
     "execution_count": 14,
     "metadata": {},
     "output_type": "execute_result"
    }
   ],
   "source": [
    "ABT == BT_AT"
   ]
  },
  {
   "cell_type": "markdown",
   "id": "05a37fbb-7c28-4509-8aa7-31a16ad6c4a8",
   "metadata": {},
   "source": [
    "### Matrix Product\n",
    "- $\\mathbf{C} = \\mathbf{A}\\mathbf{B}$\n",
    "- $C_{i,j} = \\sum_k A_{i,k}B_{i,k}$"
   ]
  },
  {
   "cell_type": "code",
   "execution_count": 15,
   "id": "ce4c94e7-2eca-4015-9ae5-e229b76f05cd",
   "metadata": {},
   "outputs": [
    {
     "data": {
      "text/plain": [
       "tensor([[0.8896, 0.4513, 0.1115, 0.8971],\n",
       "        [0.8735, 0.4742, 0.2380, 1.2804],\n",
       "        [0.3069, 0.1978, 0.2125, 0.8505]])"
      ]
     },
     "execution_count": 15,
     "metadata": {},
     "output_type": "execute_result"
    }
   ],
   "source": [
    "A = torch.rand((3,2))\n",
    "B = torch.rand((2,4))\n",
    "C = torch.matmul(A,B)\n",
    "C"
   ]
  },
  {
   "cell_type": "code",
   "execution_count": 16,
   "id": "15d82ed4-d44f-4da8-bd5d-47b16539f394",
   "metadata": {},
   "outputs": [
    {
     "name": "stdout",
     "output_type": "stream",
     "text": [
      "(3 x 4) = (3 x 2)(2 x 4)\n"
     ]
    }
   ],
   "source": [
    "print(f'({C.shape[0]} x {C.shape[1]}) = ({A.shape[0]} x {A.shape[1]})({B.shape[0]} x {B.shape[1]})')"
   ]
  },
  {
   "cell_type": "code",
   "execution_count": 17,
   "id": "595eed64-be2f-484e-9b87-9d434ad0899b",
   "metadata": {},
   "outputs": [
    {
     "name": "stdout",
     "output_type": "stream",
     "text": [
      "C[i,j]: 0.8896, Sum: 0.8896\n",
      "C[i,j]: 0.4513, Sum: 0.4513\n",
      "C[i,j]: 0.1115, Sum: 0.1115\n",
      "C[i,j]: 0.8971, Sum: 0.8971\n",
      "C[i,j]: 0.8735, Sum: 0.8735\n",
      "C[i,j]: 0.4742, Sum: 0.4742\n",
      "C[i,j]: 0.2380, Sum: 0.2380\n",
      "C[i,j]: 1.2804, Sum: 1.2804\n",
      "C[i,j]: 0.3069, Sum: 0.3069\n",
      "C[i,j]: 0.1978, Sum: 0.1978\n",
      "C[i,j]: 0.2125, Sum: 0.2125\n",
      "C[i,j]: 0.8505, Sum: 0.8505\n"
     ]
    }
   ],
   "source": [
    "for i in range(3):\n",
    "    for j in range(4):\n",
    "        total = 0\n",
    "        for k in range(2):\n",
    "            total += A[i,k]*B[k,j]\n",
    "        print(f'C[i,j]: {C[i,j]:.4f}, Sum: {total:.4f}')"
   ]
  },
  {
   "cell_type": "markdown",
   "id": "58f20a11-e1f4-432e-b5ac-35c1d6283e3c",
   "metadata": {},
   "source": [
    "### Identity Matrix\n",
    "- $\\forall x \\in \\mathbb{R}^n, \\mathbf{I}_n \\mathbf{x} = \\mathbf{x}$"
   ]
  },
  {
   "cell_type": "code",
   "execution_count": 18,
   "id": "e2965fe0-421f-41ee-bc4f-782309691f31",
   "metadata": {},
   "outputs": [
    {
     "data": {
      "text/plain": [
       "tensor([[1., 0., 0.],\n",
       "        [0., 1., 0.],\n",
       "        [0., 0., 1.]])"
      ]
     },
     "execution_count": 18,
     "metadata": {},
     "output_type": "execute_result"
    }
   ],
   "source": [
    "I = torch.eye(3)\n",
    "I"
   ]
  },
  {
   "cell_type": "code",
   "execution_count": 19,
   "id": "5d808919-0c01-4731-a42d-b95e96c92b7b",
   "metadata": {},
   "outputs": [
    {
     "data": {
      "text/plain": [
       "tensor([0.3122, 0.8567, 0.7082])"
      ]
     },
     "execution_count": 19,
     "metadata": {},
     "output_type": "execute_result"
    }
   ],
   "source": [
    "x = torch.rand(3)\n",
    "x"
   ]
  },
  {
   "cell_type": "code",
   "execution_count": 20,
   "id": "a229737b-b778-4f34-b784-0ba1d9df5f27",
   "metadata": {},
   "outputs": [],
   "source": [
    "Ix = torch.matmul(I, x)"
   ]
  },
  {
   "cell_type": "code",
   "execution_count": 21,
   "id": "86ab90a3-6ee1-436b-b334-bd664a84b63a",
   "metadata": {},
   "outputs": [
    {
     "data": {
      "text/plain": [
       "tensor([True, True, True])"
      ]
     },
     "execution_count": 21,
     "metadata": {},
     "output_type": "execute_result"
    }
   ],
   "source": [
    "Ix == x"
   ]
  },
  {
   "cell_type": "markdown",
   "id": "ffeb3392-1c5b-43cf-94b0-5551284448a3",
   "metadata": {},
   "source": [
    "### Systems of Equations\n",
    "- $\\mathbf{A}\\mathbf{x}=\\mathbf{b}$\n",
    "- $\\begin{bmatrix} A_{1,1} & A_{1,2} & \\cdots & A_{1,n} \\\\ A_{2,1} & A_{2,2} & \\cdots & A_{2,n} \\\\ & & \\vdots \\\\ A_{m,1} & A_{m,2} & \\cdots & A_{m,n}\\end{bmatrix} \\begin{bmatrix} x_{1} \\\\ x_{2} \\\\ \\vdots \\\\ x_{m}  \\end{bmatrix}= \\begin{bmatrix} A_{1,1}x_{1} + A_{1,2}x_2+ & \\cdots &  + A_{1,n}x_{n} \\\\ A_{2,1}x_{1} + A_{2,2}x_2+ & \\cdots &  + A_{2,n}x_{n} \\\\ & \\vdots \\\\ A_{m,1}x_{1} + A_{m,2}x_2+ & \\cdots &  + A_{m,n}x_{n}\\end{bmatrix} = \\begin{bmatrix} b_{1} \\\\ b_{2} \\\\ \\vdots \\\\ b_m\\end{bmatrix}$"
   ]
  },
  {
   "cell_type": "code",
   "execution_count": 22,
   "id": "3f987dfe-1892-4cf8-9831-9dd83031200e",
   "metadata": {},
   "outputs": [
    {
     "data": {
      "text/plain": [
       "torch.Size([6, 7])"
      ]
     },
     "execution_count": 22,
     "metadata": {},
     "output_type": "execute_result"
    }
   ],
   "source": [
    "A = torch.rand(6,7)\n",
    "A.shape"
   ]
  },
  {
   "cell_type": "code",
   "execution_count": 23,
   "id": "c3aa8f1d-eb02-4988-9726-2070cee0dcaf",
   "metadata": {},
   "outputs": [
    {
     "data": {
      "text/plain": [
       "torch.Size([7])"
      ]
     },
     "execution_count": 23,
     "metadata": {},
     "output_type": "execute_result"
    }
   ],
   "source": [
    "x = torch.rand(7)\n",
    "x.shape"
   ]
  },
  {
   "cell_type": "code",
   "execution_count": 24,
   "id": "d6af369e-298d-4ee5-8049-073099367256",
   "metadata": {},
   "outputs": [
    {
     "data": {
      "text/plain": [
       "tensor([1.4114, 2.1106, 1.0975, 1.2707, 1.9105, 1.4963])"
      ]
     },
     "execution_count": 24,
     "metadata": {},
     "output_type": "execute_result"
    }
   ],
   "source": [
    "b = torch.matmul(A, x)\n",
    "b"
   ]
  },
  {
   "cell_type": "code",
   "execution_count": 25,
   "id": "22507718-cede-4536-88d4-aa8a65409702",
   "metadata": {},
   "outputs": [
    {
     "name": "stdout",
     "output_type": "stream",
     "text": [
      "b[0]: 1.4114, 1.4114\n",
      "b[1]: 2.1106, 2.1106\n",
      "b[2]: 1.0975, 1.0975\n",
      "b[3]: 1.2707, 1.2707\n",
      "b[4]: 1.9105, 1.9105\n",
      "b[5]: 1.4963, 1.4963\n"
     ]
    }
   ],
   "source": [
    "b_product = []\n",
    "for m in range(6):\n",
    "    print(f'b[{m}]: {b[m]:.4f}, {torch.matmul(A[m], x):.4f}') "
   ]
  },
  {
   "cell_type": "markdown",
   "id": "b3aed42b-c42c-4b27-9fbd-1b1389e3068c",
   "metadata": {},
   "source": [
    "### Matrix Inversion\n",
    "- $\\mathbf{A}^{-1}\\mathbf{A}=\\mathbf{I}_n$\n",
    "- $\\mathbf{A}\\mathbf{x} = \\mathbf{b} \\Rightarrow \\mathbf{A}^{-1}\\mathbf{A}\\mathbf{x}= \\mathbf{I}^{n}\\mathbf{x}=\\mathbf{x}= \\mathbf{A}^{-1}\\mathbf{b}$"
   ]
  },
  {
   "cell_type": "code",
   "execution_count": 26,
   "id": "b882aeef-8bcd-402d-9ec4-00fc55c3c8a3",
   "metadata": {},
   "outputs": [
    {
     "data": {
      "text/plain": [
       "tensor([[0.7642, 0.0637, 0.7053],\n",
       "        [0.5230, 0.5116, 0.2560],\n",
       "        [0.4988, 0.8246, 0.8860]])"
      ]
     },
     "execution_count": 26,
     "metadata": {},
     "output_type": "execute_result"
    }
   ],
   "source": [
    "A = torch.rand(3,3)\n",
    "A"
   ]
  },
  {
   "cell_type": "code",
   "execution_count": 27,
   "id": "b45c5456-7bcc-4d24-8b2b-65adcd2b0e6a",
   "metadata": {},
   "outputs": [
    {
     "data": {
      "text/plain": [
       "tensor([[ 0.8412,  1.8238, -1.1965],\n",
       "        [-1.1661,  1.1299,  0.6018],\n",
       "        [ 0.6116, -2.0782,  1.2421]])"
      ]
     },
     "execution_count": 27,
     "metadata": {},
     "output_type": "execute_result"
    }
   ],
   "source": [
    "A_inverse = torch.inverse(A)\n",
    "A_inverse"
   ]
  },
  {
   "cell_type": "code",
   "execution_count": 28,
   "id": "d17c7842-a097-4274-b8c0-40bb1252dda0",
   "metadata": {},
   "outputs": [
    {
     "data": {
      "text/plain": [
       "tensor([[ 1.0000e+00, -6.3106e-08, -1.2128e-07],\n",
       "        [ 9.8881e-08,  1.0000e+00,  1.1889e-07],\n",
       "        [ 4.4739e-08,  3.4454e-08,  1.0000e+00]])"
      ]
     },
     "execution_count": 28,
     "metadata": {},
     "output_type": "execute_result"
    }
   ],
   "source": [
    "torch.matmul(A_inverse, A)"
   ]
  },
  {
   "cell_type": "code",
   "execution_count": 29,
   "id": "463d5f0d-8bda-4336-a4c7-6db842af3eda",
   "metadata": {},
   "outputs": [
    {
     "data": {
      "text/plain": [
       "tensor([0.7264, 0.7627, 0.6596])"
      ]
     },
     "execution_count": 29,
     "metadata": {},
     "output_type": "execute_result"
    }
   ],
   "source": [
    "x = torch.rand(3)\n",
    "x"
   ]
  },
  {
   "cell_type": "code",
   "execution_count": 30,
   "id": "09a317a2-07ae-43de-b102-79d217e2687e",
   "metadata": {},
   "outputs": [
    {
     "data": {
      "text/plain": [
       "tensor([1.0689, 0.9389, 1.5756])"
      ]
     },
     "execution_count": 30,
     "metadata": {},
     "output_type": "execute_result"
    }
   ],
   "source": [
    "b = torch.matmul(A, x)\n",
    "b"
   ]
  },
  {
   "cell_type": "code",
   "execution_count": 31,
   "id": "9805634c-fe72-41f1-ac66-b0056a20f2ae",
   "metadata": {},
   "outputs": [
    {
     "data": {
      "text/plain": [
       "tensor([0.7264, 0.7627, 0.6596])"
      ]
     },
     "execution_count": 31,
     "metadata": {},
     "output_type": "execute_result"
    }
   ],
   "source": [
    "torch.matmul(A_inverse, b)"
   ]
  },
  {
   "cell_type": "markdown",
   "id": "94c5db5b-8ae6-4950-904f-c4c9c619a430",
   "metadata": {},
   "source": [
    "### Norms\n",
    "- $||x||_p = (\\sum_i |x_i|^p)^{\\frac{1}{p}}$\n",
    "- L1: $||x||_1=\\sum_i |x_i|$\n",
    "- L2: $||x||_2=\\sqrt{\\sum_i |x_i|^2}$"
   ]
  },
  {
   "cell_type": "code",
   "execution_count": 36,
   "id": "3f26b287-a8c0-4e78-9e16-a46c1ae08bf1",
   "metadata": {},
   "outputs": [],
   "source": [
    "def norm(arr, p=1):\n",
    "    return sum([abs(k)**p for k in arr])**(1/p)"
   ]
  },
  {
   "cell_type": "code",
   "execution_count": 37,
   "id": "7ecaf32e-8a7e-43ad-b357-3cf31744015d",
   "metadata": {},
   "outputs": [
    {
     "data": {
      "text/plain": [
       "tensor([0.6222, 0.7571, 0.7453, 0.3362, 0.8963, 0.1691, 0.1906, 0.8623, 0.8398,\n",
       "        0.4851, 0.1398, 0.2417, 0.8130, 0.8870, 0.1354, 0.1888, 0.0792, 0.9531,\n",
       "        0.1407, 0.7837, 0.6256, 0.3418, 0.7071, 0.7554, 0.1270, 0.1779, 0.2465,\n",
       "        0.1091, 0.3201, 0.4860])"
      ]
     },
     "execution_count": 37,
     "metadata": {},
     "output_type": "execute_result"
    }
   ],
   "source": [
    "x = torch.rand(30)\n",
    "x"
   ]
  },
  {
   "cell_type": "code",
   "execution_count": 45,
   "id": "62959f6b-7caf-49b0-95ac-f16bf5b09481",
   "metadata": {},
   "outputs": [
    {
     "data": {
      "text/plain": [
       "(14.163081347942352, 3.0573725858391354)"
      ]
     },
     "execution_count": 45,
     "metadata": {},
     "output_type": "execute_result"
    }
   ],
   "source": [
    "norm(x.tolist(), p=1), norm(x.tolist(), p=2)"
   ]
  },
  {
   "cell_type": "code",
   "execution_count": 44,
   "id": "9f0679e3-ae63-4430-9796-da9eabc5e0cf",
   "metadata": {},
   "outputs": [
    {
     "data": {
      "text/plain": [
       "(14.163080215454102, 3.057372570037842)"
      ]
     },
     "execution_count": 44,
     "metadata": {},
     "output_type": "execute_result"
    }
   ],
   "source": [
    "torch.norm(x, p=1).item(), torch.norm(x, p=2).item()"
   ]
  },
  {
   "cell_type": "code",
   "execution_count": null,
   "id": "c8f03d92-e7b3-44b5-8cc4-f2f19ba8c51e",
   "metadata": {},
   "outputs": [],
   "source": []
  }
 ],
 "metadata": {
  "kernelspec": {
   "display_name": "3.8",
   "language": "python",
   "name": "3.8"
  },
  "language_info": {
   "codemirror_mode": {
    "name": "ipython",
    "version": 3
   },
   "file_extension": ".py",
   "mimetype": "text/x-python",
   "name": "python",
   "nbconvert_exporter": "python",
   "pygments_lexer": "ipython3",
   "version": "3.8.10"
  }
 },
 "nbformat": 4,
 "nbformat_minor": 5
}
