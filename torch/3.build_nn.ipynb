{
 "cells": [
  {
   "cell_type": "markdown",
   "id": "80b6b7d9-fab2-45d9-be11-0d7d590853e9",
   "metadata": {},
   "source": [
    "## Build the Neural Network"
   ]
  },
  {
   "cell_type": "code",
   "execution_count": 1,
   "id": "fe8f83ff-6111-4cd1-8076-0123f91555df",
   "metadata": {},
   "outputs": [],
   "source": [
    "import os\n",
    "import torch\n",
    "from torch import nn\n",
    "from torch.utils.data import DataLoader\n",
    "from torchvision import datasets, transforms\n",
    "from torchvision.transforms import ToTensor"
   ]
  },
  {
   "cell_type": "code",
   "execution_count": 2,
   "id": "8239311e-cee9-47bc-9fac-40acbc0f6aef",
   "metadata": {},
   "outputs": [
    {
     "data": {
      "text/plain": [
       "'cuda'"
      ]
     },
     "execution_count": 2,
     "metadata": {},
     "output_type": "execute_result"
    }
   ],
   "source": [
    "device = (\n",
    "    'cuda' if torch.cuda.is_available() else 'cpu'\n",
    ")\n",
    "device"
   ]
  },
  {
   "cell_type": "code",
   "execution_count": 3,
   "id": "41d55631-40ce-4984-b0a5-34aa9974c463",
   "metadata": {},
   "outputs": [],
   "source": [
    "class NeuralNetwork(nn.Module):\n",
    "    def __init__(self):\n",
    "        super().__init__()\n",
    "        self.flatten = nn.Flatten()\n",
    "        self.linear_relu_stack = nn.Sequential(\n",
    "            nn.Linear(28*28, 512),\n",
    "            nn.ReLU(),\n",
    "            nn.Linear(512, 512),\n",
    "            nn.ReLU(),\n",
    "            nn.Linear(512,10)\n",
    "        )\n",
    "\n",
    "    def forward(self, x):\n",
    "        x = self.flatten(x)\n",
    "        logits = self.linear_relu_stack(x)\n",
    "        return logits"
   ]
  },
  {
   "cell_type": "code",
   "execution_count": 4,
   "id": "548c064e-4209-43a0-9311-4aaa0d24f90d",
   "metadata": {},
   "outputs": [
    {
     "data": {
      "text/plain": [
       "NeuralNetwork(\n",
       "  (flatten): Flatten(start_dim=1, end_dim=-1)\n",
       "  (linear_relu_stack): Sequential(\n",
       "    (0): Linear(in_features=784, out_features=512, bias=True)\n",
       "    (1): ReLU()\n",
       "    (2): Linear(in_features=512, out_features=512, bias=True)\n",
       "    (3): ReLU()\n",
       "    (4): Linear(in_features=512, out_features=10, bias=True)\n",
       "  )\n",
       ")"
      ]
     },
     "execution_count": 4,
     "metadata": {},
     "output_type": "execute_result"
    }
   ],
   "source": [
    "model = NeuralNetwork().to(device)\n",
    "model"
   ]
  },
  {
   "cell_type": "code",
   "execution_count": 5,
   "id": "7dabb363-b969-461f-82dc-c9080c2bfa9f",
   "metadata": {},
   "outputs": [
    {
     "data": {
      "text/plain": [
       "(tensor([[0.0929, 0.0997, 0.1011, 0.1218, 0.1059, 0.0954, 0.0986, 0.0898, 0.1030,\n",
       "          0.0919]], device='cuda:0', grad_fn=<SoftmaxBackward0>),\n",
       " tensor([3], device='cuda:0'))"
      ]
     },
     "execution_count": 5,
     "metadata": {},
     "output_type": "execute_result"
    }
   ],
   "source": [
    "X = torch.rand(1, 28, 28, device=device)\n",
    "logits = model(X)\n",
    "pred_prob = nn.Softmax(dim=1)(logits)\n",
    "y_pred = pred_prob.argmax(1)\n",
    "pred_prob, y_pred"
   ]
  },
  {
   "cell_type": "markdown",
   "id": "6669be1f-c64d-480d-a6bd-bce79805cbc5",
   "metadata": {},
   "source": [
    "### Model Layers\n",
    "- Flatten\n",
    "- Linear\n",
    "- ReLU\n",
    "- Sequential\n",
    "- Softmax"
   ]
  },
  {
   "cell_type": "code",
   "execution_count": 6,
   "id": "cd4642bd-79e7-4c9b-9b49-2b851b09242d",
   "metadata": {},
   "outputs": [
    {
     "data": {
      "text/plain": [
       "torch.Size([3, 28, 28])"
      ]
     },
     "execution_count": 6,
     "metadata": {},
     "output_type": "execute_result"
    }
   ],
   "source": [
    "input_image = torch.rand(3, 28, 28)\n",
    "input_image.shape"
   ]
  },
  {
   "cell_type": "code",
   "execution_count": 7,
   "id": "ca7aa6a9-2904-4192-aab8-c11711d599f6",
   "metadata": {},
   "outputs": [
    {
     "data": {
      "image/png": "[encoded data removed]",
      "text/plain": [
       "<Figure size 640x480 with 3 Axes>"
      ]
     },
     "metadata": {},
     "output_type": "display_data"
    }
   ],
   "source": [
    "from matplotlib import pyplot as plt\n",
    "fig, axes = plt.subplots(1,3)\n",
    "for i in range(3):\n",
    "    axes[i].imshow(input_image[i])\n",
    "plt.show()"
   ]
  },
  {
   "cell_type": "code",
   "execution_count": 8,
   "id": "12161be3-86bf-4e4c-9999-b01407fab406",
   "metadata": {},
   "outputs": [
    {
     "data": {
      "text/plain": [
       "torch.Size([3, 784])"
      ]
     },
     "execution_count": 8,
     "metadata": {},
     "output_type": "execute_result"
    }
   ],
   "source": [
    "# flatten\n",
    "flatten = nn.Flatten()\n",
    "flat_img = flatten(input_image)\n",
    "flat_img.shape"
   ]
  },
  {
   "cell_type": "code",
   "execution_count": 9,
   "id": "14024d27-ec3e-463f-9b43-5e2967d5f4ce",
   "metadata": {},
   "outputs": [
    {
     "data": {
      "text/plain": [
       "torch.Size([3, 20])"
      ]
     },
     "execution_count": 9,
     "metadata": {},
     "output_type": "execute_result"
    }
   ],
   "source": [
    "# linear\n",
    "layer = nn.Linear(in_features=28*28, out_features=20)\n",
    "hidden1 = layer(flat_img)\n",
    "hidden1.shape"
   ]
  },
  {
   "cell_type": "code",
   "execution_count": 10,
   "id": "d879ac39-3137-4eb3-a0a7-b699f4e6ac61",
   "metadata": {},
   "outputs": [
    {
     "data": {
      "text/plain": [
       "torch.Size([3, 20])"
      ]
     },
     "execution_count": 10,
     "metadata": {},
     "output_type": "execute_result"
    }
   ],
   "source": [
    "# relu\n",
    "hidden2 = nn.ReLU()(hidden1)\n",
    "hidden2.shape"
   ]
  },
  {
   "cell_type": "code",
   "execution_count": 11,
   "id": "e23c77a0-64b2-4425-b0b8-dfec59edb5cd",
   "metadata": {},
   "outputs": [
    {
     "data": {
      "image/png": "[encoded data removed]",
      "text/plain": [
       "<Figure size 640x480 with 1 Axes>"
      ]
     },
     "metadata": {},
     "output_type": "display_data"
    },
    {
     "data": {
      "text/plain": [
       "<sympy.plotting.plot.Plot at 0x7f2719709e50>"
      ]
     },
     "execution_count": 11,
     "metadata": {},
     "output_type": "execute_result"
    }
   ],
   "source": [
    "from sympy import symbols, Piecewise, plot\n",
    "x = symbols('x')\n",
    "relu_func = Piecewise((0, x < 0), (x, x>=0))\n",
    "plot(relu_func, (x, -3, 3))"
   ]
  },
  {
   "cell_type": "code",
   "execution_count": 12,
   "id": "d6af70e4-df3f-4746-af56-781e08247024",
   "metadata": {},
   "outputs": [
    {
     "data": {
      "text/plain": [
       "(tensor([[ 0.2242, -0.2600, -0.1679,  0.3481, -0.0673,  0.4502, -0.1257, -0.0337,\n",
       "          -0.0379,  0.1570, -0.2102, -0.2456,  0.0916, -0.1394, -0.2233,  0.0165,\n",
       "          -0.3560,  0.6359,  0.2810, -0.1455],\n",
       "         [ 0.3306, -0.1987, -0.1661,  0.2280,  0.0320,  0.7110,  0.0637, -0.1189,\n",
       "           0.1574, -0.0900,  0.1233, -0.3628, -0.1282,  0.0375, -0.0266,  0.0501,\n",
       "          -0.5429,  0.7528,  0.5308,  0.0715],\n",
       "         [ 0.2240, -0.3507, -0.0295, -0.1045, -0.1842,  0.5862, -0.0471,  0.2204,\n",
       "           0.5107,  0.4321, -0.2531, -0.4031, -0.4153,  0.0296, -0.2872, -0.0653,\n",
       "          -0.3461,  0.6639,  0.4576,  0.0442]], grad_fn=<AddmmBackward0>),\n",
       " tensor([[0.2242, 0.0000, 0.0000, 0.3481, 0.0000, 0.4502, 0.0000, 0.0000, 0.0000,\n",
       "          0.1570, 0.0000, 0.0000, 0.0916, 0.0000, 0.0000, 0.0165, 0.0000, 0.6359,\n",
       "          0.2810, 0.0000],\n",
       "         [0.3306, 0.0000, 0.0000, 0.2280, 0.0320, 0.7110, 0.0637, 0.0000, 0.1574,\n",
       "          0.0000, 0.1233, 0.0000, 0.0000, 0.0375, 0.0000, 0.0501, 0.0000, 0.7528,\n",
       "          0.5308, 0.0715],\n",
       "         [0.2240, 0.0000, 0.0000, 0.0000, 0.0000, 0.5862, 0.0000, 0.2204, 0.5107,\n",
       "          0.4321, 0.0000, 0.0000, 0.0000, 0.0296, 0.0000, 0.0000, 0.0000, 0.6639,\n",
       "          0.4576, 0.0442]], grad_fn=<ReluBackward0>))"
      ]
     },
     "execution_count": 12,
     "metadata": {},
     "output_type": "execute_result"
    }
   ],
   "source": [
    "hidden1, hidden2"
   ]
  },
  {
   "cell_type": "code",
   "execution_count": 13,
   "id": "b2698688-2b7d-4ccb-aa28-2787018842f1",
   "metadata": {},
   "outputs": [
    {
     "data": {
      "text/plain": [
       "torch.Size([3, 10])"
      ]
     },
     "execution_count": 13,
     "metadata": {},
     "output_type": "execute_result"
    }
   ],
   "source": [
    "# sequential\n",
    "outputs = nn.Sequential(\n",
    "    flatten, \n",
    "    layer,\n",
    "    nn.ReLU(),\n",
    "    nn.Linear(20, 10)\n",
    ")\n",
    "logits = outputs(input_image)\n",
    "logits.shape"
   ]
  },
  {
   "cell_type": "code",
   "execution_count": 14,
   "id": "d2518f96-3fcf-405f-8ea7-17cafb9227f6",
   "metadata": {},
   "outputs": [
    {
     "data": {
      "text/plain": [
       "(torch.Size([3, 10]),\n",
       " tensor([[0.1103, 0.1098, 0.0802, 0.0954, 0.1040, 0.0976, 0.1058, 0.0883, 0.0818,\n",
       "          0.1268],\n",
       "         [0.1095, 0.1170, 0.0822, 0.0996, 0.0958, 0.0905, 0.1077, 0.0888, 0.0797,\n",
       "          0.1291],\n",
       "         [0.0973, 0.1139, 0.0772, 0.1018, 0.0900, 0.0975, 0.1020, 0.0915, 0.0922,\n",
       "          0.1366]], grad_fn=<SoftmaxBackward0>))"
      ]
     },
     "execution_count": 14,
     "metadata": {},
     "output_type": "execute_result"
    }
   ],
   "source": [
    "# softmax\n",
    "softmax = nn.Softmax(dim=1)\n",
    "pred_prob = softmax(logits)\n",
    "pred_prob.shape, pred_prob"
   ]
  },
  {
   "cell_type": "markdown",
   "id": "17d5a830-732d-48f5-adb4-0ecbda431215",
   "metadata": {},
   "source": [
    "### Model Parameters\n",
    "- weight\n",
    "- bias"
   ]
  },
  {
   "cell_type": "code",
   "execution_count": 15,
   "id": "7f5c02f2-a425-4ef4-8aa1-5fbe428da88f",
   "metadata": {},
   "outputs": [
    {
     "name": "stdout",
     "output_type": "stream",
     "text": [
      "linear_relu_stack.0.weight torch.Size([512, 784])\n",
      "linear_relu_stack.0.bias torch.Size([512])\n",
      "linear_relu_stack.2.weight torch.Size([512, 512])\n",
      "linear_relu_stack.2.bias torch.Size([512])\n",
      "linear_relu_stack.4.weight torch.Size([10, 512])\n",
      "linear_relu_stack.4.bias torch.Size([10])\n"
     ]
    }
   ],
   "source": [
    "for name, param in model.named_parameters():\n",
    "    print(name, param.size())"
   ]
  },
  {
   "cell_type": "markdown",
   "id": "eadd7054-4d17-4d26-bdee-28babe114eaa",
   "metadata": {},
   "source": [
    "### Training"
   ]
  },
  {
   "cell_type": "code",
   "execution_count": 16,
   "id": "b5721a83-ec88-4825-b408-00d953403b87",
   "metadata": {},
   "outputs": [],
   "source": [
    "# dataset & dataloader\n",
    "training_data = datasets.FashionMNIST(\n",
    "    root=\"data\",\n",
    "    train=True,\n",
    "    download=True,\n",
    "    transform=ToTensor()\n",
    ")\n",
    "\n",
    "test_data = datasets.FashionMNIST(\n",
    "    root=\"data\",\n",
    "    train=False,\n",
    "    download=True,\n",
    "    transform=ToTensor()\n",
    ")\n",
    "\n",
    "train_dataloader = DataLoader(training_data, batch_size=64)\n",
    "test_dataloader = DataLoader(test_data, batch_size=64)"
   ]
  },
  {
   "cell_type": "code",
   "execution_count": 17,
   "id": "bbaf1bbe-95d5-405a-bf5c-2b5458bd83ef",
   "metadata": {},
   "outputs": [],
   "source": [
    "# hyperparameter\n",
    "learning_rate = 1e-3\n",
    "batch_size = 64\n",
    "epochs = 10"
   ]
  },
  {
   "cell_type": "code",
   "execution_count": 18,
   "id": "6438c65e-ab37-4fbc-9cce-bd389b045648",
   "metadata": {},
   "outputs": [],
   "source": [
    "# loss function\n",
    "loss_fn = nn.CrossEntropyLoss()"
   ]
  },
  {
   "cell_type": "code",
   "execution_count": 19,
   "id": "efd9aa18-8f70-4c55-8c61-aacc3b6428ab",
   "metadata": {},
   "outputs": [],
   "source": [
    "# optimizer\n",
    "optimizer = torch.optim.SGD(model.parameters(), lr=learning_rate)"
   ]
  },
  {
   "cell_type": "code",
   "execution_count": 39,
   "id": "bd234a29-6b95-4e84-9fbd-706f1b8a5819",
   "metadata": {},
   "outputs": [],
   "source": [
    "# train\n",
    "def train_loop(dataloader, model, loss_fn, optimizer):\n",
    "    size = len(dataloader.dataset)\n",
    "    for batch, (X, y) in enumerate(dataloader):\n",
    "        # 예측 및 손실 계산\n",
    "        pred = model(X.to(device))\n",
    "        loss = loss_fn(pred, y.to(device))\n",
    "\n",
    "        # 역전파\n",
    "        optimizer.zero_grad()\n",
    "        loss.backward()\n",
    "        optimizer.step()\n",
    "\n",
    "        if batch % 100 == 0 and batch != 0:\n",
    "            loss, current = loss.item(), (batch+1)*len(X)\n",
    "            print(f'loss: {loss:>7f}, [{current:>5d}/{size:>5d}]')\n",
    "        elif batch == int(size / batch_size):\n",
    "            print(f'loss: {loss:>7f}, [{size:>5d}/{size:>5d}]')\n"
   ]
  },
  {
   "cell_type": "code",
   "execution_count": 38,
   "id": "b07ca5bf-2e6d-448c-89f1-ac76c473e2db",
   "metadata": {},
   "outputs": [],
   "source": [
    "# test\n",
    "def test_loop(dataloader, model, loss_fn):\n",
    "    size = len(dataloader.dataset)\n",
    "    num_batches = len(dataloader)\n",
    "    test_loss, correct = 0, 0\n",
    "\n",
    "    with torch.no_grad():\n",
    "        for X, y in dataloader:\n",
    "            pred = model(X.to(device))\n",
    "            test_loss += loss_fn(pred, y.to(device)).item()\n",
    "            correct += (pred.argmax(1) == y.to(device)).type(torch.float).sum().item()\n",
    "\n",
    "    test_loss /= num_batches\n",
    "    correct /= size\n",
    "    print(f'Test Error: \\n Accuracy: {100*correct:>0.1f}, Avg loss: {test_loss:>8f}\\n')"
   ]
  },
  {
   "cell_type": "code",
   "execution_count": 40,
   "id": "234dcc42-84c6-4197-afe2-5b24c4c3ca53",
   "metadata": {},
   "outputs": [
    {
     "name": "stdout",
     "output_type": "stream",
     "text": [
      "Epoch 1\n",
      " -----------------------------------------\n",
      "loss: 0.526057, [ 6464/60000]\n",
      "loss: 0.348232, [12864/60000]\n",
      "loss: 0.589726, [19264/60000]\n",
      "loss: 0.518269, [25664/60000]\n",
      "loss: 0.520027, [32064/60000]\n",
      "loss: 0.519883, [38464/60000]\n",
      "loss: 0.666335, [44864/60000]\n",
      "loss: 0.617945, [51264/60000]\n",
      "loss: 0.486390, [57664/60000]\n",
      "loss: 0.605748, [60000/60000]\n",
      "Test Error: \n",
      " Accuracy: 81.6, Avg loss: 0.519125\n",
      "\n",
      "Epoch 2\n",
      " -----------------------------------------\n",
      "loss: 0.521615, [ 6464/60000]\n",
      "loss: 0.344756, [12864/60000]\n",
      "loss: 0.584895, [19264/60000]\n",
      "loss: 0.514094, [25664/60000]\n",
      "loss: 0.515514, [32064/60000]\n",
      "loss: 0.516116, [38464/60000]\n",
      "loss: 0.666154, [44864/60000]\n",
      "loss: 0.616028, [51264/60000]\n",
      "loss: 0.481202, [57664/60000]\n",
      "loss: 0.602667, [60000/60000]\n",
      "Test Error: \n",
      " Accuracy: 81.7, Avg loss: 0.516080\n",
      "\n",
      "Epoch 3\n",
      " -----------------------------------------\n",
      "loss: 0.517872, [ 6464/60000]\n",
      "loss: 0.341497, [12864/60000]\n",
      "loss: 0.580505, [19264/60000]\n",
      "loss: 0.509710, [25664/60000]\n",
      "loss: 0.511256, [32064/60000]\n",
      "loss: 0.512326, [38464/60000]\n",
      "loss: 0.665947, [44864/60000]\n",
      "loss: 0.614214, [51264/60000]\n",
      "loss: 0.476247, [57664/60000]\n",
      "loss: 0.599979, [60000/60000]\n",
      "Test Error: \n",
      " Accuracy: 81.8, Avg loss: 0.513186\n",
      "\n",
      "Epoch 4\n",
      " -----------------------------------------\n",
      "loss: 0.514342, [ 6464/60000]\n",
      "loss: 0.338408, [12864/60000]\n",
      "loss: 0.576323, [19264/60000]\n",
      "loss: 0.505347, [25664/60000]\n",
      "loss: 0.507141, [32064/60000]\n",
      "loss: 0.508595, [38464/60000]\n",
      "loss: 0.665726, [44864/60000]\n",
      "loss: 0.612418, [51264/60000]\n",
      "loss: 0.471564, [57664/60000]\n",
      "loss: 0.597438, [60000/60000]\n",
      "Test Error: \n",
      " Accuracy: 81.8, Avg loss: 0.510430\n",
      "\n",
      "Epoch 5\n",
      " -----------------------------------------\n",
      "loss: 0.511040, [ 6464/60000]\n",
      "loss: 0.335446, [12864/60000]\n",
      "loss: 0.572314, [19264/60000]\n",
      "loss: 0.501011, [25664/60000]\n",
      "loss: 0.503152, [32064/60000]\n",
      "loss: 0.505020, [38464/60000]\n",
      "loss: 0.665368, [44864/60000]\n",
      "loss: 0.610725, [51264/60000]\n",
      "loss: 0.467078, [57664/60000]\n",
      "loss: 0.594933, [60000/60000]\n",
      "Test Error: \n",
      " Accuracy: 81.9, Avg loss: 0.507808\n",
      "\n",
      "Epoch 6\n",
      " -----------------------------------------\n",
      "loss: 0.507925, [ 6464/60000]\n",
      "loss: 0.332605, [12864/60000]\n",
      "loss: 0.568445, [19264/60000]\n",
      "loss: 0.496827, [25664/60000]\n",
      "loss: 0.499225, [32064/60000]\n",
      "loss: 0.501627, [38464/60000]\n",
      "loss: 0.664807, [44864/60000]\n",
      "loss: 0.609048, [51264/60000]\n",
      "loss: 0.462832, [57664/60000]\n",
      "loss: 0.592471, [60000/60000]\n",
      "Test Error: \n",
      " Accuracy: 81.9, Avg loss: 0.505307\n",
      "\n",
      "Epoch 7\n",
      " -----------------------------------------\n",
      "loss: 0.504957, [ 6464/60000]\n",
      "loss: 0.329860, [12864/60000]\n",
      "loss: 0.564741, [19264/60000]\n",
      "loss: 0.492712, [25664/60000]\n",
      "loss: 0.495462, [32064/60000]\n",
      "loss: 0.498358, [38464/60000]\n",
      "loss: 0.664146, [44864/60000]\n",
      "loss: 0.607352, [51264/60000]\n",
      "loss: 0.458821, [57664/60000]\n",
      "loss: 0.589987, [60000/60000]\n",
      "Test Error: \n",
      " Accuracy: 82.0, Avg loss: 0.502920\n",
      "\n",
      "Epoch 8\n",
      " -----------------------------------------\n",
      "loss: 0.502161, [ 6464/60000]\n",
      "loss: 0.327261, [12864/60000]\n",
      "loss: 0.561188, [19264/60000]\n",
      "loss: 0.488648, [25664/60000]\n",
      "loss: 0.491872, [32064/60000]\n",
      "loss: 0.495265, [38464/60000]\n",
      "loss: 0.663336, [44864/60000]\n",
      "loss: 0.605686, [51264/60000]\n",
      "loss: 0.455051, [57664/60000]\n",
      "loss: 0.587471, [60000/60000]\n",
      "Test Error: \n",
      " Accuracy: 82.1, Avg loss: 0.500637\n",
      "\n",
      "Epoch 9\n",
      " -----------------------------------------\n",
      "loss: 0.499515, [ 6464/60000]\n",
      "loss: 0.324790, [12864/60000]\n",
      "loss: 0.557765, [19264/60000]\n",
      "loss: 0.484644, [25664/60000]\n",
      "loss: 0.488382, [32064/60000]\n",
      "loss: 0.492247, [38464/60000]\n",
      "loss: 0.662399, [44864/60000]\n",
      "loss: 0.603979, [51264/60000]\n",
      "loss: 0.451536, [57664/60000]\n",
      "loss: 0.584987, [60000/60000]\n",
      "Test Error: \n",
      " Accuracy: 82.2, Avg loss: 0.498447\n",
      "\n",
      "Epoch 10\n",
      " -----------------------------------------\n",
      "loss: 0.497004, [ 6464/60000]\n",
      "loss: 0.322402, [12864/60000]\n",
      "loss: 0.554442, [19264/60000]\n",
      "loss: 0.480723, [25664/60000]\n",
      "loss: 0.485002, [32064/60000]\n",
      "loss: 0.489288, [38464/60000]\n",
      "loss: 0.661270, [44864/60000]\n",
      "loss: 0.602280, [51264/60000]\n",
      "loss: 0.448205, [57664/60000]\n",
      "loss: 0.582251, [60000/60000]\n",
      "Test Error: \n",
      " Accuracy: 82.3, Avg loss: 0.496340\n",
      "\n",
      "Done!\n"
     ]
    }
   ],
   "source": [
    "for t in range(epochs):\n",
    "    print(f'Epoch {t+1}\\n -----------------------------------------')\n",
    "    train_loop(train_dataloader, model, loss_fn, optimizer)\n",
    "    test_loop(test_dataloader, model, loss_fn)\n",
    "print('Done!')"
   ]
  },
  {
   "cell_type": "markdown",
   "id": "e4c2e05a-db59-419e-a026-cec9b032f219",
   "metadata": {},
   "source": [
    "### Model save & load"
   ]
  },
  {
   "cell_type": "code",
   "execution_count": 42,
   "id": "8926e4f0-2a1d-49a5-a4d9-37adea311fde",
   "metadata": {},
   "outputs": [],
   "source": [
    "torch.save(model.state_dict(), 'model_weights.pth')"
   ]
  },
  {
   "cell_type": "code",
   "execution_count": 43,
   "id": "f010febf-a939-46ca-adb2-ccc0228befa8",
   "metadata": {},
   "outputs": [],
   "source": [
    "new_model = NeuralNetwork()"
   ]
  },
  {
   "cell_type": "code",
   "execution_count": 45,
   "id": "b68599d4-c291-4033-a4b1-f442ba78cd73",
   "metadata": {},
   "outputs": [
    {
     "data": {
      "text/plain": [
       "(NeuralNetwork(\n",
       "   (flatten): Flatten(start_dim=1, end_dim=-1)\n",
       "   (linear_relu_stack): Sequential(\n",
       "     (0): Linear(in_features=784, out_features=512, bias=True)\n",
       "     (1): ReLU()\n",
       "     (2): Linear(in_features=512, out_features=512, bias=True)\n",
       "     (3): ReLU()\n",
       "     (4): Linear(in_features=512, out_features=10, bias=True)\n",
       "   )\n",
       " ),\n",
       " NeuralNetwork(\n",
       "   (flatten): Flatten(start_dim=1, end_dim=-1)\n",
       "   (linear_relu_stack): Sequential(\n",
       "     (0): Linear(in_features=784, out_features=512, bias=True)\n",
       "     (1): ReLU()\n",
       "     (2): Linear(in_features=512, out_features=512, bias=True)\n",
       "     (3): ReLU()\n",
       "     (4): Linear(in_features=512, out_features=10, bias=True)\n",
       "   )\n",
       " ))"
      ]
     },
     "execution_count": 45,
     "metadata": {},
     "output_type": "execute_result"
    }
   ],
   "source": [
    "model, new_model"
   ]
  },
  {
   "cell_type": "code",
   "execution_count": 49,
   "id": "5aada19f-f282-47b3-b5ab-5f23ee5345f2",
   "metadata": {},
   "outputs": [
    {
     "ename": "TypeError",
     "evalue": "get_parameter() missing 1 required positional argument: 'target'",
     "output_type": "error",
     "traceback": [
      "\u001b[0;31m---------------------------------------------------------------------------\u001b[0m",
      "\u001b[0;31mTypeError\u001b[0m                                 Traceback (most recent call last)",
      "Cell \u001b[0;32mIn[49], line 1\u001b[0m\n\u001b[0;32m----> 1\u001b[0m \u001b[43mmodel\u001b[49m\u001b[38;5;241;43m.\u001b[39;49m\u001b[43mget_parameter\u001b[49m\u001b[43m(\u001b[49m\u001b[43m)\u001b[49m\n",
      "\u001b[0;31mTypeError\u001b[0m: get_parameter() missing 1 required positional argument: 'target'"
     ]
    }
   ],
   "source": [
    "model.get_parameter"
   ]
  },
  {
   "cell_type": "code",
   "execution_count": null,
   "id": "896dce3b-4631-4770-9d96-4bd405ef5b41",
   "metadata": {},
   "outputs": [],
   "source": []
  }
 ],
 "metadata": {
  "kernelspec": {
   "display_name": "3.8",
   "language": "python",
   "name": "3.8"
  },
  "language_info": {
   "codemirror_mode": {
    "name": "ipython",
    "version": 3
   },
   "file_extension": ".py",
   "mimetype": "text/x-python",
   "name": "python",
   "nbconvert_exporter": "python",
   "pygments_lexer": "ipython3",
   "version": "3.8.10"
  }
 },
 "nbformat": 4,
 "nbformat_minor": 5
}
